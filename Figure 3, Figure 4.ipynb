{
 "cells": [
  {
   "cell_type": "markdown",
   "id": "bdbf6db8",
   "metadata": {},
   "source": [
    "# Figure 3, Figure 4"
   ]
  },
  {
   "cell_type": "code",
   "execution_count": null,
   "id": "5166b126",
   "metadata": {},
   "outputs": [],
   "source": [
    "#import packages\n",
    "import numpy as np\n",
    "import matplotlib.pyplot as plt\n",
    "from matplotlib.lines import Line2D\n",
    "import pandas as pd\n",
    "import seaborn as sns\n",
    "from tqdm.auto import tqdm\n",
    "import pulp as p\n",
    "from scipy import stats\n",
    "import scipy as scipy\n",
    "import matplotlib.patches as mpatches"
   ]
  },
  {
   "cell_type": "code",
   "execution_count": null,
   "id": "fa872189",
   "metadata": {},
   "outputs": [],
   "source": [
    "#pip install pyppeteer"
   ]
  },
  {
   "cell_type": "code",
   "execution_count": null,
   "id": "2f84e09f",
   "metadata": {},
   "outputs": [],
   "source": [
    "#pip install pulp"
   ]
  },
  {
   "cell_type": "code",
   "execution_count": null,
   "id": "fb31c02b",
   "metadata": {},
   "outputs": [],
   "source": [
    "# don't print warning messages\n",
    "import warnings\n",
    "warnings.filterwarnings('ignore')"
   ]
  },
  {
   "cell_type": "code",
   "execution_count": null,
   "id": "75346117",
   "metadata": {},
   "outputs": [],
   "source": [
    "def warburgModel(Glucose_Uptake_Rate, Y_Glyc, Y_Resp, V_Resp, V_Glyc, Mass_Fract_ATP, organism):\n",
    "    \n",
    "    '''The Warburg Model primary function is this publication. The function utilizes linear programming to \n",
    "    maximize the ATP production rate (mmol ATP per g cellular protein per hour) in the objective function \n",
    "    by assigning the functional fraction of fermentation and respiration in the ATP-producing proteome.\n",
    "    \n",
    "    The inputs into the model are:\n",
    "    (1) glucose glucose uptake rate (mmol glucose per g cellular protein per hour)- Glucose_Uptake_Rate\n",
    "    (2) ATP Yield per molecule of glucose for fermentation and respiation - Y_Glyc & Y_Resp\n",
    "    (3) Specific activity of fermentation and respiation (mmol per g pathway protein per hr) - V_Resp & V_Glyc\n",
    "    (4) Fraction of the proteome for ATP-producing enzymes - Mass_Fract_ATP\n",
    "    \n",
    "    The outputs of the function are:\n",
    "    (1) Functional proteome occupancy of fermentation and respiration -  Mass_Fract_Glyc & Mass_Fract_Resp\n",
    "    (2) Maximal ATP production rate - ATP production rate (mmol per g cellular protein per hour)\n",
    "    (3) Rate of fermentation and respiration that produce the maximal ATP production rate - Lact_rate & Resp_rate (mmol per g cellular protein per hour)'''\n",
    "\n",
    "    # Create a LP Maximization problem\n",
    "    warburg_prob = p.LpProblem('Problem', p.LpMaximize) \n",
    "  \n",
    "    # Create problem Variables \n",
    "    Mass_Fract_Glyc = p.LpVariable(\"Mass_Fract_Glyc\", lowBound = 0, upBound = 1, cat='Continuous') \n",
    "    Mass_Fract_Resp = p.LpVariable(\"Mass_Fract_Resp\", lowBound = 0, upBound = 1, cat='Continuous')   \n",
    "  \n",
    "    # Objective Function\n",
    "    warburg_prob += Y_Glyc * V_Glyc * Mass_Fract_Glyc + Y_Resp * V_Resp * Mass_Fract_Resp \n",
    "  \n",
    "    # Constraints:\n",
    "\n",
    "    warburg_prob += V_Glyc * Mass_Fract_Glyc + V_Resp * Mass_Fract_Resp <= Glucose_Uptake_Rate\n",
    "    warburg_prob += Mass_Fract_Glyc + Mass_Fract_Resp <= Mass_Fract_ATP\n",
    "  \n",
    "    status = warburg_prob.solve()   # Solver\n",
    "    #print(p.LpStatus[status])   # The solution status\n",
    "    \n",
    "    if organism == 'ecoli': \n",
    "        \n",
    "        #Calculation of Acetate Production and Oxygen Consumption Rates\n",
    "        #Note the a seperate calculation in in necessary for E. coli since Acetate Respiration Consumes Oxygen\n",
    "        Lact_rate = 2 * p.value(Mass_Fract_Glyc) * V_Glyc\n",
    "        Resp_rate = 6 * p.value(Mass_Fract_Resp) * V_Resp + p.value(Mass_Fract_Glyc) * 2 * V_Glyc\n",
    "    \n",
    "    else:  \n",
    "        \n",
    "        #Calculation of Ethanol/Lactate Production and Oxygen Consumption Rates\n",
    "        Lact_rate = 2 * p.value(Mass_Fract_Glyc) * V_Glyc\n",
    "        Resp_rate = 6 * p.value(Mass_Fract_Resp) * V_Resp\n",
    "  \n",
    "    # Printing the final solution\n",
    "    return(p.value(Mass_Fract_Glyc), p.value(Mass_Fract_Resp), p.value(warburg_prob.objective), Lact_rate, Resp_rate)  "
   ]
  },
  {
   "cell_type": "code",
   "execution_count": null,
   "id": "5e1e13e1",
   "metadata": {},
   "outputs": [],
   "source": [
    "def waburgLoop(rates, proteomics, ferm_proteomics, resp_proteomics, gly_proteomics, Y_Glyc, Y_Resp, min_gluc, max_gluc, organism): \n",
    "    \n",
    "    '''Performs bootstrapping to resample the five parameter estimates (i.e. fraction of \n",
    "    the proteome occupied by pathway, specific activity, and ATP yield) with replacement (N=10,000). \n",
    "    After each round of sampling, the specific activity of each pathway is calculated. The sampled \n",
    "    parameter values for proteome occupied by pathway, specific activity, and ATP yield from each \n",
    "    round of bootstrapping are used in the linear program described in the function above. \n",
    "    All 10,000 results are stored in a data frame, which in the output.'''\n",
    "\n",
    "    results_final = []\n",
    "    \n",
    "       \n",
    "    for j in tqdm(range(10000)):\n",
    "        V_Resp = []\n",
    "        V_Glyc = []\n",
    "        Mass_Fract_ATP = []\n",
    "    \n",
    "        #random choice with replacement for each paramter \n",
    "        sample_activity_respiration = rates.loc[rates['pathway'] == 'Respiration', 'glucose uptake rate  (mmol gprotein-1 hr-1)'].unique() / 60\n",
    "        #print(sample_activity_respiration)\n",
    "        sample_activity_fermentation = rates.loc[rates['pathway'] == 'Fermentation', 'glucose uptake rate  (mmol gprotein-1 hr-1)'].unique() / 60\n",
    "        #print(sample_activity_fermentation)\n",
    "        sample_mass_respiraition = resp_proteomics.loc[(resp_proteomics['estimate'] == 'respiration'), 'value'].unique()\n",
    "        #print(sample_mass_respiraition)\n",
    "        sample_mass_fermentation = ferm_proteomics.loc[(ferm_proteomics['estimate'] == 'fermentation'), 'value'].unique()\n",
    "        #print(sample_mass_fermentation)\n",
    "        sample_mass_ATP = proteomics['value'].unique()\n",
    "        sample_mass_glycolysis = gly_proteomics.loc[(gly_proteomics['estimate'] == 'fermentation'), 'value'].unique() \n",
    "        \n",
    "        sample_size_activity_respiration = len(sample_activity_respiration)\n",
    "        sample_size_activity_fermentation = len(sample_activity_fermentation)\n",
    "        sample_size_mass_respiraition = len(sample_mass_respiraition)\n",
    "        sample_size_mass_fermentation = len(sample_mass_fermentation)\n",
    "        sample_size_mass_ATP = len(sample_mass_ATP)\n",
    "        sample_size_mass_glycolysis= len(sample_mass_glycolysis)\n",
    "    \n",
    "        sample_specific_activity_fermentation = np.random.choice(sample_activity_fermentation, size=sample_size_activity_fermentation,replace=True)\n",
    "        sample_specific_activity_respiration = np.random.choice(sample_activity_respiration, size=sample_size_activity_respiration, replace=True)\n",
    "        sample_fraction_fermentation = np.random.choice(sample_mass_fermentation, size=sample_size_mass_fermentation, replace=True)\n",
    "        sample_fraction_respiration = np.random.choice(sample_mass_respiraition, size=sample_size_mass_respiraition, replace=True)\n",
    "        sample_fraction_ATP = np.random.choice(sample_mass_ATP, size=sample_size_mass_ATP, replace=True)\n",
    "        sample_fraction_glycolysis = np.random.choice(sample_mass_glycolysis, size=sample_size_mass_glycolysis, replace=True)\n",
    "        \n",
    "        #calculate model parameters for current bootstrap iteration   \n",
    "        V_Resp =  sample_specific_activity_respiration.mean() / (sample_fraction_respiration.mean())\n",
    "        #print(V_Resp)\n",
    "        V_Glyc = sample_specific_activity_fermentation.mean() / sample_fraction_fermentation.mean() \n",
    "        #print(V_Glyc)\n",
    "        #print(sample_specific_activity_fermentation.mean())\n",
    "        \n",
    "        V_Glyc_2 = sample_specific_activity_fermentation.mean() / sample_fraction_glycolysis.mean() \n",
    "        \n",
    "        rate_ratio = V_Resp / V_Glyc_2\n",
    "        \n",
    "        V_Resp =  sample_specific_activity_respiration.mean() / (sample_fraction_respiration.mean() + sample_fraction_glycolysis.mean() * rate_ratio)\n",
    "\n",
    "        #print(V_Glyc)\n",
    "        #print(V_Resp)\n",
    "        \n",
    "        Mass_Fract_ATP = sample_fraction_ATP.mean() \n",
    "        #print(Mass_Fract_ATP)\n",
    "        Y_Glyc = Y_Glyc\n",
    "        Y_Resp = Y_Resp\n",
    "        \n",
    "        #glucose uptake rates to loop through \n",
    "        gluc = np.linspace(min_gluc, max_gluc, 200)\n",
    "        \n",
    "        #Empty arrays to save results\n",
    "        glucose_uptake = []\n",
    "        glyc_mass = []\n",
    "        resp_mass = []\n",
    "        atp = []\n",
    "        lact = []\n",
    "        o2 = []\n",
    "    \n",
    "        #loop through the linear model for each glucose uptake rate\n",
    "        for i in range(len(gluc)):\n",
    "            loop_result = (warburgModel(gluc[i], Y_Glyc, Y_Resp, V_Resp, V_Glyc, Mass_Fract_ATP, organism)) \n",
    "            #print(loop_result)\n",
    "            \n",
    "            glyc_mass.append(loop_result[0])\n",
    "            resp_mass.append(loop_result[1])\n",
    "            atp.append(loop_result[2])\n",
    "            lact.append(loop_result[3])\n",
    "            o2.append(loop_result[4])\n",
    "            glucose_uptake.append(gluc[i])\n",
    "            \n",
    "        results = [glyc_mass, resp_mass, atp, lact, o2, glucose_uptake]\n",
    "        \n",
    "        #Append the outputs for each bootstrap iteration\n",
    "        results_final.append(results)\n",
    "    \n",
    "    #Convert the array into a dataframe\n",
    "    df = pd.DataFrame({'gluc' : [], 'glyc_mass' : [], 'resp_mass' : [], 'atp' : [], 'lact' : [], 'o2' : []})\n",
    "\n",
    "    for i in range(len(results_final)):\n",
    "        df_temp_gluc = pd.DataFrame({'gluc' : results_final[i][5]})\n",
    "        df_temp_gly = pd.DataFrame({'glyc_mass' : results_final[i][0]})\n",
    "        df_temp_resp = pd.DataFrame({'resp_mass' : results_final[i][1]})\n",
    "        df_temp_atp = pd.DataFrame({'atp' : results_final[i][2]})\n",
    "        df_temp_lac = pd.DataFrame({'lact' : results_final[i][3]})\n",
    "        df_temp_o2 = pd.DataFrame({'o2' : results_final[i][4]})\n",
    "        out = df_temp_gluc.join([df_temp_gly, df_temp_resp, df_temp_atp, df_temp_lac, df_temp_o2])\n",
    "        \n",
    "        df = pd.concat([df, out])\n",
    "        \n",
    "    return(df)"
   ]
  },
  {
   "cell_type": "code",
   "execution_count": null,
   "id": "6430f37e",
   "metadata": {},
   "outputs": [],
   "source": [
    "def waburgCI(df): \n",
    "    \n",
    "    '''Calculates the 95 confidence interval for each output of the model'''\n",
    "\n",
    "    df_sub = df[['glyc_mass', 'resp_mass', 'atp', 'lact', 'o2']]\n",
    "\n",
    "    df_95_low = pd.DataFrame(np.array(df['gluc'].unique()), columns=['gluc'])\n",
    "    df_95_high = pd.DataFrame(np.array(df['gluc'].unique()), columns=['gluc'])\n",
    "\n",
    "    for column in list(df_sub.columns): \n",
    "        df_temp = df_sub[[column]]\n",
    "        df_temp = pd.concat([df[['gluc']],df_temp],axis=1)\n",
    "        #print(df_temp)\n",
    "        column_names = ['gluc', column]\n",
    "        df_95_temp_low = pd.DataFrame(columns = column_names)\n",
    "        df_95_temp_high = pd.DataFrame(columns = column_names)\n",
    "        for gluc_uptake in list(df_temp['gluc'].unique()):\n",
    "        #print(gluc_uptake)\n",
    "            sample = np.array(df_temp.loc[df_temp['gluc'] == gluc_uptake, column])\n",
    "            #mean, sigma = np.mean(sample), np.std(sample)\n",
    "            #conf_int = stats.norm.interval(0.95, loc=mean, scale=sigma)\n",
    "            #confidence95 = mean - conf_int[0]\n",
    "            sample_count = len(sample)\n",
    "            sample_high = sample_count * .975\n",
    "            sample_low = sample_count * .025\n",
    "            sample = np.sort(sample)\n",
    "            conf95_high = sample[int(sample_high) - 1]\n",
    "            conf95_low = sample[int(sample_low) - 1]\n",
    "            data_low = {'gluc': [gluc_uptake], column: [conf95_low]}\n",
    "            data_high = {'gluc': [gluc_uptake], column: [conf95_high]}\n",
    "            data_low_df = pd.DataFrame(data_low)\n",
    "            data_high_df = pd.DataFrame(data_high)\n",
    "            df_95_temp_low = df_95_temp_low.append(data_low_df)\n",
    "            df_95_temp_high = df_95_temp_high.append(data_high_df)\n",
    "        df_95_low = df_95_low.merge(df_95_temp_low, on='gluc')\n",
    "        df_95_high = df_95_high.merge(df_95_temp_high, on='gluc')\n",
    "    df_95 = pd.merge(df_95_low, df_95_high, on = 'gluc', how = 'left')\n",
    "    \n",
    "    return(df_95)    "
   ]
  },
  {
   "cell_type": "markdown",
   "id": "f91e4acd",
   "metadata": {},
   "source": [
    "## Figure 3 A & D\n",
    "### Model estimates for *E. coli*"
   ]
  },
  {
   "cell_type": "code",
   "execution_count": null,
   "id": "e04dee26",
   "metadata": {},
   "outputs": [],
   "source": [
    "#parameter estimates for proteome occupany\n",
    "proteomics = pd.read_csv('./Data/ecoli_proteomics_sum_total.csv')\n",
    "\n",
    "#parameters estimates for specfic activity\n",
    "rates = pd.read_csv('./Data/ecoli_cellular_rates.csv')\n",
    "\n",
    "#parameters estimates for specfic activity proteome\n",
    "resp_proteomics = pd.read_csv('./Data/ecoli_specific_activity_resp_occupancy.csv')\n",
    "ferm_proteomics = pd.read_csv('./Data/ecoli_specific_activity_ferm_occupancy.csv')"
   ]
  },
  {
   "cell_type": "code",
   "execution_count": null,
   "id": "3fd6408c",
   "metadata": {
    "scrolled": true
   },
   "outputs": [],
   "source": [
    "#data into waburgLoop function\n",
    "ecoli_model = waburgLoop(rates, proteomics, ferm_proteomics, resp_proteomics, ferm_proteomics, 10, 20, 0.1/ 60, 10.5/ 60, 'ecoli')"
   ]
  },
  {
   "cell_type": "code",
   "execution_count": null,
   "id": "49ea83bd",
   "metadata": {},
   "outputs": [],
   "source": [
    "#Calculate confidence interval \n",
    "ecoli_model_conf = waburgCI(ecoli_model)\n",
    "max_conf = np.array(ecoli_model_conf['lact_x'])\n",
    "min_conf = np.array(ecoli_model_conf['lact_y'])\n",
    "ecoli_min = next(i for i, x in enumerate(min_conf) if x > 0)\n",
    "ecoli_max = next(i for i, x in enumerate(max_conf) if x > 0)"
   ]
  },
  {
   "cell_type": "code",
   "execution_count": null,
   "id": "4c514a0e",
   "metadata": {},
   "outputs": [],
   "source": [
    "#reset index\n",
    "ecoli_model_mean = ecoli_model.groupby('gluc').median().reset_index()"
   ]
  },
  {
   "cell_type": "code",
   "execution_count": null,
   "id": "de5bb197",
   "metadata": {},
   "outputs": [],
   "source": [
    "#experimental values (points on figs below) to compare to model predictions\n",
    "ecoli_experiments = pd.read_csv('./Data/ecoli_experimental.csv')"
   ]
  },
  {
   "cell_type": "code",
   "execution_count": null,
   "id": "3dddba64",
   "metadata": {},
   "outputs": [],
   "source": [
    "#Plot Figure 3a\n",
    "#Warburg Effect in E. coli\n",
    "fig, ax = plt.subplots(figsize=(8,8))\n",
    "ax.patch.set_facecolor('white')\n",
    "sns.set_context(\"talk\")\n",
    "\n",
    "#Fermentation Utilization\n",
    "ax.axvspan(ecoli_model_conf['gluc'][ecoli_min], ecoli_model['gluc'].max(), alpha=0.5, color='crimson')\n",
    "\n",
    "#plot experimental data\n",
    "sns.scatterplot(ecoli_experiments['Glucose Consumption (mmol gprotein-1 hr-1)']/60, ecoli_experiments['Acetate Production (mmol gprotein-1 hr-1)']/60, color = 'crimson', alpha=.9, label='Experimental Acetate Production', linewidth = 0, s=200, zorder = 3, style = ecoli_experiments['Author'])\n",
    "\n",
    "#axis format\n",
    "ax.set_xlabel(\"Glucose Uptake Rate\" r'$ \\left(\\frac{\\mu mol}{mg_{protein} \\cdot min^{}}\\right)$', fontsize=23)\n",
    "ax.set_ylabel(\"Acetate Production Rate\" r'$ \\left(\\frac{\\mu mol}{mg_{protein} \\cdot min^{}}\\right)$', fontsize=23)\n",
    "ax.tick_params(axis='both', which='major', labelsize=20)\n",
    "ax.set_xlim(-1/ 60, ecoli_model_conf['gluc'].max())\n",
    "\n",
    "#legend format \n",
    "red_patch = mpatches.Patch(color='crimson', alpha=0.5)\n",
    "\n",
    "custom = [red_patch,\n",
    "          Line2D([], [], marker='o', color='crimson', linestyle='None')]\n",
    "\n",
    "plt.legend(custom, ['Model Prediction of the Warburg Effect', 'Acetate Production (umol mgprotein-1 min-1)'], fontsize = 13, loc='upper left')\n",
    "\n",
    "plt.tight_layout()\n",
    "\n",
    "#save figure\n",
    "fig.savefig('./Figures/fig3a_fermentation_onset_ecoli.svg',format='svg', dpi=1200)"
   ]
  },
  {
   "cell_type": "code",
   "execution_count": null,
   "id": "4ae9d17f",
   "metadata": {
    "scrolled": false
   },
   "outputs": [],
   "source": [
    "#Plot Figure 3d\n",
    "#Model predictions of fermentation and respiration rates in E. coli\n",
    "\n",
    "fig, ax = plt.subplots(figsize=(8,8))\n",
    "ax.patch.set_facecolor('white')\n",
    "\n",
    "#plot model predictions \n",
    "ax.plot(ecoli_model_mean['gluc'], ecoli_model_mean['lact'], color = 'crimson', linewidth = 2, label='Model Acetate Production')\n",
    "ax.fill_between(ecoli_model_mean['gluc'], ecoli_model_conf['lact_y'], ecoli_model_conf['lact_x'], color = 'crimson', alpha=0.2, linewidth = 0)\n",
    "ax.plot(ecoli_model_mean['gluc'], ecoli_model_mean['o2'], color = 'darkblue', linewidth = 2, label='Model Oxygen Consumption')\n",
    "ax.fill_between(ecoli_model_mean['gluc'], ecoli_model_conf['o2_y'], ecoli_model_conf['o2_x'], alpha=0.2, linewidth = 0)\n",
    "\n",
    "#plot experimental data\n",
    "sns.scatterplot(ecoli_experiments['Glucose Consumption (mmol gprotein-1 hr-1)']/ 60, ecoli_experiments['Acetate Production (mmol gprotein-1 hr-1)']/ 60, color = 'crimson', alpha=.9, label='Experimental Acetate Production', linewidth = 0, s=200, zorder = 3, style = ecoli_experiments['Author'])\n",
    "sns.scatterplot(ecoli_experiments['Glucose Consumption (mmol gprotein-1 hr-1)']/ 60, ecoli_experiments['Oxygen Consumption (mmol gprotein-1 hr-1)']/ 60, color = 'darkblue', alpha=.9, label='Experimental Oxygen Consumption', linewidth = 0, s=200, zorder = 4, style = ecoli_experiments['Author'])\n",
    "\n",
    "#axis format\n",
    "ax.set_xlabel(\"Glucose Uptake Rate\" r'$ \\left(\\frac{\\mu mmol}{mg_{protein} \\cdot min^{}}\\right)$', fontsize=23)\n",
    "ax.set_ylabel(\"Consumption / Production Rate\" r'$ \\left(\\frac{\\mu mmol}{mg_{protein} \\cdot min^{}}\\right)$', fontsize=23)\n",
    "ax.tick_params(axis='both', which='major', labelsize=20)\n",
    "ax.set_xlim(-1/ 60, ecoli_model_conf['gluc'].max())\n",
    "\n",
    "#legend format \n",
    "custom = [Line2D([0], [0], color='crimson', lw=4),\n",
    "          Line2D([0], [0], color='darkblue', lw=4),\n",
    "          Line2D([], [], marker='o', color='crimson', linestyle='None'),\n",
    "          Line2D([], [], marker='o', color='darkblue', linestyle='None')]\n",
    "plt.legend(custom, ['Model Acetate Production', 'Model Oxygen Consumption', 'Acetate Production (umol mgprotein-1 min-1)', 'Oxygen Consumption (umol mgprotein-1 min-1)'], fontsize = 13, loc='upper left')\n",
    "\n",
    "\n",
    "plt.tight_layout()\n",
    "\n",
    "#save fig\n",
    "fig.savefig('./Figures/fig3d_ecoli_rate_predictions.svg',format='svg', dpi=1200)\n"
   ]
  },
  {
   "cell_type": "markdown",
   "id": "9007d21f",
   "metadata": {},
   "source": [
    "## Figure 3 B & E\n",
    "### Model estimates for *S. cerevisiae*"
   ]
  },
  {
   "cell_type": "code",
   "execution_count": null,
   "id": "9f871553",
   "metadata": {},
   "outputs": [],
   "source": [
    "#parameter estimates for proteome occupany\n",
    "proteomics = pd.read_csv('./Data/yeast_proteomics_sum_total.csv')\n",
    "\n",
    "#parameters estimates for specfic activity\n",
    "rates = pd.read_csv('./Data/yeast_cellular_rates.csv')\n",
    "\n",
    "#parameters estimates for specfic activity proteome\n",
    "resp_proteomics = pd.read_csv('./Data/yeast_specific_activity_resp_occupancy.csv')\n",
    "ferm_proteomics = pd.read_csv('./Data/yeast_specific_activity_ferm_occupancy.csv')"
   ]
  },
  {
   "cell_type": "code",
   "execution_count": null,
   "id": "a3bb393f",
   "metadata": {
    "scrolled": false
   },
   "outputs": [],
   "source": [
    "#data into waburgLoop function\n",
    "yeast_model = waburgLoop(rates, proteomics, ferm_proteomics, resp_proteomics, ferm_proteomics, 2, 16, 0.1/60, 39/60, 'yeast')"
   ]
  },
  {
   "cell_type": "code",
   "execution_count": null,
   "id": "4781a61b",
   "metadata": {},
   "outputs": [],
   "source": [
    "#calculate confidence interval \n",
    "yeast_model_conf = waburgCI(yeast_model)\n",
    "max_conf = np.array(yeast_model_conf['lact_x'])\n",
    "min_conf = np.array(yeast_model_conf['lact_y'])\n",
    "yeast_min = next(i for i, x in enumerate(min_conf) if x > 0)\n",
    "yeast_max = next(i for i, x in enumerate(max_conf) if x > 0)"
   ]
  },
  {
   "cell_type": "code",
   "execution_count": null,
   "id": "88d43881",
   "metadata": {},
   "outputs": [],
   "source": [
    "#reset index\n",
    "yeast_model_mean = yeast_model.groupby('gluc').median().reset_index()"
   ]
  },
  {
   "cell_type": "code",
   "execution_count": null,
   "id": "3cbda22a",
   "metadata": {},
   "outputs": [],
   "source": [
    "#experimental values (points on figs below) to compare to model predictions\n",
    "yeast_experiments = pd.read_csv('./Data/yeast_experimental.csv')"
   ]
  },
  {
   "cell_type": "code",
   "execution_count": null,
   "id": "a47510c5",
   "metadata": {},
   "outputs": [],
   "source": [
    "#Plot Figure 3b\n",
    "#Warburg Effect in S. cerevisiae\n",
    "fig, ax = plt.subplots(figsize=(8, 8))\n",
    "ax.patch.set_facecolor('white')\n",
    "\n",
    "ax.axvspan(yeast_model_conf['gluc'][yeast_min], yeast_model_conf['gluc'].max(), alpha=0.5, color='crimson')\n",
    "\n",
    "#plot experimental data\n",
    "sns.scatterplot(yeast_experiments['Glucose Consumption (mmol gprotein-1 hr-1)']/60, yeast_experiments['Ethanol Production (mmol gprotein-1 hr-1)']/60, color = 'crimson', alpha=.9, label='Experimental Ethanol Production', linewidth = 0, s=200, zorder = 3, style = yeast_experiments['Author'])\n",
    "\n",
    "#axis format\n",
    "ax.set_xlabel(\"Glucose Uptake Rate\" r'$ \\left(\\frac{\\mu mol}{mg_{protein} \\cdot min^{}}\\right)$', fontsize=23)\n",
    "ax.set_ylabel(\"Ethanol Production Rate\" r'$ \\left(\\frac{\\mu mol}{mg_{protein} \\cdot min^{}}\\right)$', fontsize=23)\n",
    "ax.tick_params(axis='both', which='major', labelsize=20)\n",
    "ax.set_xlim(-1/60, yeast_model_conf['gluc'].max())\n",
    "\n",
    "#legend format \n",
    "red_patch = mpatches.Patch(color='crimson', alpha=0.5)\n",
    "\n",
    "custom = [red_patch, Line2D([], [], marker='o', color='crimson', linestyle='None')]\n",
    "\n",
    "plt.legend(custom, ['Model Prediction of the Warburg Effect', 'Ethanol Production (umol mgprotein-1 min-1)'], fontsize = 13, loc='upper left')\n",
    "\n",
    "plt.tight_layout()\n",
    "\n",
    "#save figure\n",
    "fig.savefig('./Figures/fig3b_fermentation_onset_yeast.svg',format='svg', dpi=1200)"
   ]
  },
  {
   "cell_type": "code",
   "execution_count": null,
   "id": "5a8ed3c8",
   "metadata": {
    "scrolled": false
   },
   "outputs": [],
   "source": [
    "#Plot Figure 3e\n",
    "#Model predictions of fermentation and respiration rates in S. cerevisiae\n",
    "fig, ax = plt.subplots(figsize=(8,8))\n",
    "ax.patch.set_facecolor('white')\n",
    "\n",
    "#plot model predictions \n",
    "ax.plot(yeast_model_mean['gluc'], yeast_model_mean['lact'], color = 'crimson', linewidth = 2, label='Model Ethanol Production')\n",
    "ax.fill_between(yeast_model_mean['gluc'], yeast_model_conf['lact_y'], yeast_model_conf['lact_x'], color = 'crimson', alpha=0.2, linewidth = 0)\n",
    "ax.plot(yeast_model_mean['gluc'], yeast_model_mean['o2'], color = 'darkblue', linewidth = 2, label='Model Oxygen Consumption')\n",
    "ax.fill_between(yeast_model_mean['gluc'],yeast_model_conf['o2_y'], yeast_model_conf['o2_x'], alpha=0.2, linewidth = 0)\n",
    "\n",
    "#plot experimental data\n",
    "sns.scatterplot(yeast_experiments['Glucose Consumption (mmol gprotein-1 hr-1)']/60, yeast_experiments['Ethanol Production (mmol gprotein-1 hr-1)']/60, color = 'crimson', alpha=.9, label='Experimental Ethanol Production', linewidth = 0, s=200, zorder = 3, style = yeast_experiments['Author'])\n",
    "sns.scatterplot(yeast_experiments['Glucose Consumption (mmol gprotein-1 hr-1)']/60, yeast_experiments['Oxygen Consumption (mmol gprotein-1 hr-1)']/60, color = 'darkblue', alpha=.9, label='Experimental Oxygen Consumption', linewidth = 0, s=200, zorder = 4, style = yeast_experiments['Author'])\n",
    "\n",
    "#axis format\n",
    "ax.set_xlabel(\"Glucose Uptake Rate\" r'$ \\left(\\frac{\\mu mol}{mg_{protein} \\cdot min^{}}\\right)$', fontsize=23)\n",
    "ax.set_ylabel(\"Consumption / Production Rate\" r'$ \\left(\\frac{\\mu mol}{mg_{protein} \\cdot min^{}}\\right)$', fontsize=23)\n",
    "ax.tick_params(axis='both', which='major', labelsize=20)\n",
    "ax.set_xlim(-1/60, yeast_model_conf['gluc'].max())\n",
    "\n",
    "#legend format \n",
    "custom = [Line2D([0], [0], color='crimson', lw=4),\n",
    "          Line2D([0], [0], color='darkblue', lw=4),\n",
    "          Line2D([], [], marker='o', color='crimson', linestyle='None'),\n",
    "          Line2D([], [], marker='o', color='darkblue', linestyle='None')]\n",
    "plt.legend(custom, ['Model Ethanol Production', 'Model Oxygen Consumption', 'Ethanol Production (umol mgprotein-1 min-1)', 'Oxygen Consumption (umol mgprotein-1 min-1)'], fontsize = 13, loc='upper left')\n",
    "\n",
    "\n",
    "plt.tight_layout()\n",
    "\n",
    "#save figure\n",
    "fig.savefig('./Figures/fig3e_yeast_rates_perdiction.svg',format='svg', dpi=1200)\n"
   ]
  },
  {
   "cell_type": "markdown",
   "id": "a3c526ac",
   "metadata": {},
   "source": [
    "## Figure 3 C & F\n",
    "### Model estimates for mammalian cells "
   ]
  },
  {
   "cell_type": "code",
   "execution_count": null,
   "id": "edc15477",
   "metadata": {},
   "outputs": [],
   "source": [
    "#parameter estimates for proteome occupany\n",
    "proteomics = pd.read_csv('./Data/mammalian_proteomics_sum.csv')\n",
    "\n",
    "#parameters estimates for specfic activity\n",
    "rate = pd.read_csv('./Data/mammalian_cellular_rates.csv')\n",
    "\n",
    "#parameters estimates for specfic activity proteome\n",
    "resp_proteomics = pd.read_csv('./Data/mammalian_specific_activity_resp_occupancy.csv')\n",
    "ferm_proteomics = pd.read_csv('./Data/mammalian_specific_activity_ferm_occupancy.csv')"
   ]
  },
  {
   "cell_type": "code",
   "execution_count": null,
   "id": "5a22a69e",
   "metadata": {},
   "outputs": [],
   "source": [
    "#data into waburgLoop function\n",
    "mammalian_model = waburgLoop(rate, proteomics, ferm_proteomics, resp_proteomics, ferm_proteomics, 2, 24, 0.01/60, 1/60, 'human')"
   ]
  },
  {
   "cell_type": "code",
   "execution_count": null,
   "id": "8d88a4eb",
   "metadata": {},
   "outputs": [],
   "source": [
    "#calculate confidence interval \n",
    "mammalian_model_conf = waburgCI(mammalian_model)\n",
    "max_conf = np.array(mammalian_model_conf['lact_x'])\n",
    "min_conf = np.array(mammalian_model_conf['lact_y'])\n",
    "mammalian_min = next(i for i, x in enumerate(min_conf) if x > 0)\n",
    "mammalian_max = next(i for i, x in enumerate(max_conf) if x > 0)"
   ]
  },
  {
   "cell_type": "code",
   "execution_count": null,
   "id": "812d8b06",
   "metadata": {},
   "outputs": [],
   "source": [
    "#reset index\n",
    "mammalian_model_mean = mammalian_model.groupby('gluc').median().reset_index()"
   ]
  },
  {
   "cell_type": "code",
   "execution_count": null,
   "id": "b133271c",
   "metadata": {},
   "outputs": [],
   "source": [
    "#experimental values (points on figs below) to compare to model predictions\n",
    "mammalian_experiments = pd.read_csv('./Data/mammalian_experimental.csv')"
   ]
  },
  {
   "cell_type": "code",
   "execution_count": null,
   "id": "1c029ef0",
   "metadata": {},
   "outputs": [],
   "source": [
    "#Plot Figure 3c\n",
    "#Warburg Effect in mammalian cells\n",
    "\n",
    "fig, ax = plt.subplots(figsize=(8.5, 8))\n",
    "ax.patch.set_facecolor('white')\n",
    "\n",
    "ax.axvspan(mammalian_model_conf['gluc'][mammalian_min], mammalian_model_conf['gluc'].max(), alpha=0.5, color='crimson')\n",
    "\n",
    "\n",
    "#plot experimental data\n",
    "sns.scatterplot(mammalian_experiments['Glucose Consumption (mmol gprotein-1 hr-1)']/60, mammalian_experiments['Lactate Production (mmol gprotein-1 hr-1)']/60, color = 'crimson', alpha=.9, label='Experimental Lactate Production', linewidth = 0, s=200, zorder = 3, style = mammalian_experiments['Author'])\n",
    "\n",
    "#axis format\n",
    "ax.set_xlabel(\"Glucose Uptake Rate\" r'$ \\left(\\frac{\\mu mol}{mg_{protein} \\cdot min^{}}\\right)$', fontsize=23)\n",
    "ax.set_ylabel(\"Lactate Production Rate\" r'$ \\left(\\frac{\\mu mol}{mg_{protein} \\cdot min^{}}\\right)$', fontsize=23)\n",
    "ax.tick_params(axis='both', which='major', labelsize=20)\n",
    "ax.set_xlim(-.07/60, mammalian_model_conf['gluc'].max())\n",
    "\n",
    "#legend format \n",
    "\n",
    "red_patch = mpatches.Patch(color='crimson', alpha=0.5)\n",
    "#plt.legend(handles=[red_patch])\n",
    "\n",
    "custom = [red_patch,\n",
    "    Line2D([], [], marker='o', color='crimson', linestyle='None')]\n",
    "\n",
    "plt.legend(custom, ['Model Prediction of the Warburg Effect', 'Lactate Production (umol mgprotein-1 min-1)'], fontsize = 13, loc='upper left')\n",
    "\n",
    "\n",
    "plt.tight_layout()\n",
    "\n",
    "#save figure\n",
    "fig.savefig('./Figures/fig3c_fermentation_onset_mammalian.svg',format='svg', dpi=1200)"
   ]
  },
  {
   "cell_type": "code",
   "execution_count": null,
   "id": "5aa84dd9",
   "metadata": {
    "scrolled": false
   },
   "outputs": [],
   "source": [
    "#Plot Figure 3f\n",
    "#Model predictions of fermentation and respiration rates in mammalian cells\n",
    "\n",
    "fig, ax = plt.subplots(figsize=(8.5,8))\n",
    "ax.patch.set_facecolor('white')\n",
    "sns.set_context(\"talk\")\n",
    "ax.tick_params(bottom=False, left=False)\n",
    "\n",
    "#plot model predictions \n",
    "ax.plot(mammalian_model_mean['gluc'], mammalian_model_mean['lact'], color = 'crimson', linewidth = 2, label='Model Lactate Production', zorder = 1)\n",
    "ax.fill_between(mammalian_model_mean['gluc'], mammalian_model_conf['lact_y'], mammalian_model_conf['lact_x'], color = 'crimson', alpha=0.2, linewidth = 0)\n",
    "ax.plot(mammalian_model_mean['gluc'], mammalian_model_mean['o2'], color = 'darkblue', linewidth = 2, label='Model Oxygen Consumption', zorder = 2)\n",
    "ax.fill_between(mammalian_model_mean['gluc'], mammalian_model_conf['o2_y'], mammalian_model_conf['o2_x'], alpha=0.2, linewidth = 0)\n",
    "\n",
    "#plot experimental data\n",
    "sns.scatterplot(mammalian_experiments['Glucose Consumption (mmol gprotein-1 hr-1)']/60, mammalian_experiments['Lactate Production (mmol gprotein-1 hr-1)']/60, color = 'crimson', alpha=.9, label='Experimental Lactate Production', linewidth = 0, s=160, zorder = 4, style = mammalian_experiments['Author'])\n",
    "sns.scatterplot(mammalian_experiments['Glucose Consumption (mmol gprotein-1 hr-1)']/60, mammalian_experiments['Oxygen Consumption (mmol gprotein-1 hr-1)']/60, color = 'darkblue', alpha=.9, label='Experimental Oxygen Consumption', linewidth = 0, s=160, zorder =3, style = mammalian_experiments['Author'])\n",
    "\n",
    "#axis format\n",
    "ax.set_xlabel(\"Glucose Uptake Rate\" r'$ \\left(\\frac{\\mu mol}{mg_{protein} \\cdot min^{}}\\right)$', fontsize=23)\n",
    "ax.set_ylabel(\"Consumption / Production Rate\" r'$ \\left(\\frac{\\mu mol}{mg_{protein} \\cdot min^{}}\\right)$', fontsize=23)\n",
    "ax.tick_params(axis='both', which='major', labelsize=20)\n",
    "ax.set_xlim(-.07/60, mammalian_model_conf['gluc'].max())\n",
    "\n",
    "#legend format \n",
    "custom = [Line2D([0], [0], color='crimson', lw=4),\n",
    "          Line2D([0], [0], color='darkblue', lw=4),\n",
    "          Line2D([], [], marker='o', color='crimson', linestyle='None'),\n",
    "          Line2D([], [], marker='o', color='darkblue', linestyle='None')]\n",
    "plt.legend(custom, ['Model Lactate Production', 'Model Oxygen Consumption', 'Lactate Production (umol mgprotein-1 min-1)', 'Oxygen Consumption (umol mgprotein-1 min-1)'], fontsize = 12, loc='upper left')\n",
    "\n",
    "plt.tight_layout()\n",
    "\n",
    "#save figure\n",
    "fig.savefig('./Figures/fig3f_mammalian_rates_prediction.svg',format='svg', dpi=1200)"
   ]
  },
  {
   "cell_type": "markdown",
   "id": "812ac581",
   "metadata": {},
   "source": [
    "## Figure 4\n",
    "### Warburg Effect is independent of growth rate "
   ]
  },
  {
   "cell_type": "code",
   "execution_count": null,
   "id": "0f3dce74",
   "metadata": {},
   "outputs": [],
   "source": [
    "ecoli_experiments['Oxygen Consumption (umol mgprotein-1 min-1)'] = ecoli_experiments['Oxygen Consumption (mmol gprotein-1 hr-1)'] / 60 \n",
    "ecoli_experiments['Acetate Production (umol mgprotein-1 min-1)'] = ecoli_experiments['Acetate Production (mmol gprotein-1 hr-1)'] / 60 \n",
    "ecoli_experiments['Glucose Consumption (umol mgprotein-1 min-1)'] = ecoli_experiments['Glucose Consumption (mmol gprotein-1 hr-1)'] / 60 "
   ]
  },
  {
   "cell_type": "code",
   "execution_count": null,
   "id": "61428164",
   "metadata": {
    "scrolled": false
   },
   "outputs": [],
   "source": [
    "#Figure 4a\n",
    "#Growth rate vs. acetate production in E. coli \n",
    "\n",
    "fig, ax = plt.subplots(figsize=(8,8))\n",
    "ax.patch.set_facecolor('white')\n",
    "sns.set_style(\"white\")\n",
    "sns.set_context(\"talk\")\n",
    "ax.tick_params(bottom=False, left=False)\n",
    "\n",
    "#set color palette\n",
    "palette = {\"Carbon\":\"grey\",\n",
    "           \"Nitrogen\":\"goldenrod\", \n",
    "           \"Phosphorous limited\":\"teal\"}\n",
    "\n",
    "#plot experimental data\n",
    "sns.scatterplot(data=ecoli_experiments, x=\"Growth Rate\", y=\"Acetate Production (umol mgprotein-1 min-1)\",\n",
    "                hue=\"Nutrient limitation\", s=300, palette=palette, alpha=0.7, edgecolor = None, style = ecoli_experiments['Author'])\n",
    "\n",
    "#axis format\n",
    "ax.set_xlabel(\"Growth Rate\" r'$ \\left(\\mathrm{hr}^{-1} \\right)$', fontsize=23)\n",
    "ax.set_ylabel(\"Acetate Production Rate\" r'$ \\left(\\frac{\\mu mol}{mg_{protein} \\cdot min^{}}\\right)$', fontsize=23)\n",
    "ax.tick_params(axis='both', which='major', labelsize=18)\n",
    "\n",
    "#legend format\n",
    "custom = [Line2D([], [], marker='o', color='grey', linestyle='None'),\n",
    "          Line2D([], [], marker='o', color='goldenrod', linestyle='None')]\n",
    "plt.legend(custom, ['Carbon', 'Nitrogen'], fontsize = 17, loc='upper left', title = 'Nutrient Limitation')\n",
    "ax.tick_params(axis='both', which='major', labelsize=18)\n",
    "\n",
    "#save fig \n",
    "fig.savefig('./Figures/figure4a_warburg_effect_growth.svg',format='svg', dpi=1200)"
   ]
  },
  {
   "cell_type": "code",
   "execution_count": null,
   "id": "2be19d74",
   "metadata": {
    "scrolled": false
   },
   "outputs": [],
   "source": [
    "#Figure 4c\n",
    "#Glucose uptake rate vs. acetate production in E. coli \n",
    "\n",
    "fig, ax = plt.subplots(figsize=(8,8))\n",
    "ax.patch.set_facecolor('white')\n",
    "sns.set_style(\"white\")\n",
    "sns.set_context(\"talk\")\n",
    "ax.tick_params(bottom=False, left=False)\n",
    "\n",
    "#set color palette\n",
    "palette = {\"Carbon\":\"grey\",\n",
    "           \"Nitrogen\":\"goldenrod\", \n",
    "           \"Phosphorous limited\":\"teal\"}\n",
    "\n",
    "#plot experimental data\n",
    "sns.scatterplot(data=ecoli_experiments, x=\"Glucose Consumption (umol mgprotein-1 min-1)\", y=\"Acetate Production (umol mgprotein-1 min-1)\",\n",
    "                hue=\"Nutrient limitation\", s=300, palette=palette, alpha=0.7, edgecolor = None, style = ecoli_experiments['Author'])\n",
    "\n",
    "ax.fill_between(ecoli_model_mean['gluc'], ecoli_model_conf['lact_y'], ecoli_model_conf['lact_x'], color = 'crimson', alpha=0.2, linewidth = 0)\n",
    "#plot model preduction\n",
    "ax.plot(ecoli_model_mean['gluc'], ecoli_model_mean['lact'], color = 'crimson', linewidth = 2, label='Model Acetate Production')\n",
    "#ax.fill_between(ecoli_model['gluc'], ecoli_model['lact'] - ecoli_model_conf['lact'], ecoli_model['lact'] + ecoli_model_conf['lact'], color = 'crimson', alpha=0.2, linewidth = 0)\n",
    "\n",
    "#axis format\n",
    "ax.set_xlabel(\"Glucose Uptake Rate\" r'$ \\left(\\frac{\\mu mmol}{mg_{protein} \\cdot min^{}}\\right)$', fontsize=23)\n",
    "ax.set_ylabel(\"Acetate Production Rate\" r'$ \\left(\\frac{\\mu mol}{mg_{protein} \\cdot min^{}}\\right)$', fontsize=23)\n",
    "ax.tick_params(axis='both', which='major', labelsize=18)\n",
    "ax.set_xlim(-1/60, ecoli_model_conf['gluc'].max())\n",
    "\n",
    "#legend format\n",
    "custom = [Line2D([], [], marker='o', color='grey', linestyle='None'),\n",
    "          Line2D([], [], marker='o', color='goldenrod', linestyle='None')]\n",
    "plt.legend(custom, ['Carbon', 'Nitrogen'], fontsize = 17, loc='upper left', title = 'Nutrient Limitation')\n",
    "\n",
    "\n",
    "#save figure\n",
    "fig.savefig('./Figures/figure4c_warburg_effect_glucose_uptake.svg',format='svg', dpi=1200)"
   ]
  },
  {
   "cell_type": "markdown",
   "id": "34caad05",
   "metadata": {},
   "source": [
    "### Correlation calculation"
   ]
  },
  {
   "cell_type": "code",
   "execution_count": null,
   "id": "ad585241",
   "metadata": {},
   "outputs": [],
   "source": [
    "#drop NA's from growth rate df\n",
    "ecoli_experiments_corr = ecoli_experiments.dropna(subset=['Growth Rate'])\n",
    "\n",
    "test1 = pd.to_numeric(ecoli_experiments_corr['Growth Rate'].values)\n",
    "test2 = pd.to_numeric(ecoli_experiments_corr['Acetate Production (mmol gprotein-1 hr-1)'].values)\n",
    "test3 = pd.to_numeric(ecoli_experiments_corr['Glucose Consumption (mmol gprotein-1 hr-1)'].values)"
   ]
  },
  {
   "cell_type": "code",
   "execution_count": null,
   "id": "6da45373",
   "metadata": {},
   "outputs": [],
   "source": [
    "#Pearson correlation between growth rate and acetate production rate\n",
    "scipy.stats.pearsonr(test1, test2)"
   ]
  },
  {
   "cell_type": "code",
   "execution_count": null,
   "id": "994c9141",
   "metadata": {
    "scrolled": true
   },
   "outputs": [],
   "source": [
    "#Pearson correlation between glucose uptrake rate and acetate production rate\n",
    "scipy.stats.pearsonr(test3, test2)"
   ]
  },
  {
   "cell_type": "code",
   "execution_count": null,
   "id": "fd73d153",
   "metadata": {},
   "outputs": [],
   "source": [
    "yeast_experiments['Oxygen Consumption (umol mgprotein-1 min-1)'] = yeast_experiments['Oxygen Consumption (mmol gprotein-1 hr-1)'] / 60\n",
    "yeast_experiments['Ethanol Production (umol mgprotein-1 min-1)'] = yeast_experiments['Ethanol Production (mmol gprotein-1 hr-1)'] / 60\n",
    "yeast_experiments['Glucose Consumption (umol mgprotein-1 min-1)'] = yeast_experiments['Glucose Consumption (mmol gprotein-1 hr-1)'] / 60"
   ]
  },
  {
   "cell_type": "code",
   "execution_count": null,
   "id": "f0e487c8",
   "metadata": {},
   "outputs": [],
   "source": [
    "#Figure 4b \n",
    "#Growth rate vs. ethanol production in S. cerevisiae\n",
    "\n",
    "fig, ax = plt.subplots(figsize=(8,8))\n",
    "ax.patch.set_facecolor('white')\n",
    "sns.set_style(\"white\")\n",
    "sns.set_context(\"talk\")\n",
    "ax.tick_params(bottom=False, left=False)\n",
    "\n",
    "#set color palette\n",
    "palette = {\"Carbon\":\"grey\",\n",
    "           \"Nitrogen\":\"goldenrod\", \n",
    "           \"Phosphorous\":\"teal\"}\n",
    "\n",
    "#plot experimental data\n",
    "sns.scatterplot(data=yeast_experiments, x=\"Growth Rate (h_1)\", y=\"Ethanol Production (umol mgprotein-1 min-1)\",\n",
    "                hue=\"Nutrient limitation\", s=300, palette=palette, alpha=0.7, edgecolor = None, style = yeast_experiments['Author'])\n",
    "\n",
    "#axis format\n",
    "ax.set_xlabel(\"Growth Rate\" r'$ \\left(\\mathrm{hr}^{-1} \\right)$', fontsize=23)\n",
    "ax.set_ylabel(\"Ethanol Production Rate\" r'$ \\left(\\frac{\\mu mol}{mg_{protein} \\cdot min^{}}\\right)$', fontsize=23)\n",
    "ax.tick_params(axis='both', which='major', labelsize=18)\n",
    "\n",
    "#legend format\n",
    "custom = [Line2D([], [], marker='o', color='grey', linestyle='None'),\n",
    "          Line2D([], [], marker='o', color='goldenrod', linestyle='None'),\n",
    "          Line2D([], [], marker='o', color='teal', linestyle='None'),]\n",
    "plt.legend(custom, ['Carbon', 'Nitrogen', 'Phosphorus'], fontsize = 17, loc='upper left', title = 'Nutrient Limitation')\n",
    "\n",
    "#save figure\n",
    "fig.savefig('./Figures/figure4c.svg',format='svg', dpi=1200)"
   ]
  },
  {
   "cell_type": "code",
   "execution_count": null,
   "id": "18c210de",
   "metadata": {
    "scrolled": false
   },
   "outputs": [],
   "source": [
    "#Figure 4d \n",
    "#Glucose uptake rate vs. ethanol production in S. cerevisiae\n",
    "\n",
    "fig, ax = plt.subplots(figsize=(8,8))\n",
    "ax.patch.set_facecolor('white')\n",
    "sns.set_style(\"white\")\n",
    "sns.set_context(\"talk\")\n",
    "ax.tick_params(bottom=False, left=False)\n",
    "\n",
    "#set color palette\n",
    "palette = {\"Carbon\":\"grey\",\n",
    "           \"Nitrogen\":\"goldenrod\", \n",
    "           \"Phosphorous\":\"teal\"}\n",
    "\n",
    "#plot experimental data\n",
    "sns.scatterplot(data=yeast_experiments, x=\"Glucose Consumption (umol mgprotein-1 min-1)\", y=\"Ethanol Production (umol mgprotein-1 min-1)\",\n",
    "                hue=\"Nutrient limitation\", s=300, palette=palette, alpha=0.7, edgecolor = None, style = yeast_experiments['Author'])\n",
    "\n",
    "#plot model predictions \n",
    "ax.plot(yeast_model_mean['gluc'], yeast_model_mean['lact'], color = 'crimson', linewidth = 2, label='Model Ethanol Production')\n",
    "ax.fill_between(yeast_model_mean['gluc'], yeast_model_conf['lact_y'], yeast_model_conf['lact_x'], color = 'crimson', alpha=0.2, linewidth = 0)\n",
    "\n",
    "#axis format\n",
    "custom = [Line2D([], [], marker='o', color='grey', linestyle='None'),\n",
    "          Line2D([], [], marker='o', color='goldenrod', linestyle='None'),\n",
    "          Line2D([], [], marker='o', color='teal', linestyle='None'),]\n",
    "plt.legend(custom, ['Carbon', 'Nitrogen', 'Phosphorus'], fontsize = 17, loc='upper left', title = 'Nutrient Limitation')\n",
    "\n",
    "#legend format\n",
    "ax.set_xlabel(\"Glucose Uptake Rate\" r'$ \\left(\\frac{\\mu mol}{mg_{protein} \\cdot min^{}}\\right)$', fontsize=23)\n",
    "ax.set_ylabel(\"Ethanol Production Rate\" r'$ \\left(\\frac{\\mu mol}{mg_{protein} \\cdot min^{}}\\right)$', fontsize=23)\n",
    "ax.tick_params(axis='both', which='major', labelsize=18)\n",
    "ax.set_xlim(-1/60, yeast_model_conf['gluc'].max())\n",
    "\n",
    "#ax.set_xlim(-1,26)\n",
    "#ax.set_ylim(-1,45)\n",
    "\n",
    "fig.savefig('./Figures/2022_08_25_figure4z.svg',format='svg', dpi=1200)"
   ]
  },
  {
   "cell_type": "code",
   "execution_count": null,
   "id": "a380cd1c",
   "metadata": {},
   "outputs": [],
   "source": [
    "#drop NA's from growth rate df\n",
    "yeast_experiments_corr = yeast_experiments.dropna(subset=['Growth Rate (h_1)'])\n",
    "test1 = pd.to_numeric(yeast_experiments_corr['Growth Rate (h_1)'].values)\n",
    "test2 = pd.to_numeric(yeast_experiments_corr['Ethanol Production (mmol gprotein-1 hr-1)'].values)\n",
    "test3 = pd.to_numeric(yeast_experiments_corr['Glucose Consumption (mmol gprotein-1 hr-1)'].values)"
   ]
  },
  {
   "cell_type": "code",
   "execution_count": null,
   "id": "0050030c",
   "metadata": {
    "scrolled": true
   },
   "outputs": [],
   "source": [
    "#Pearson correlation between growth rate and ethanol production rate\n",
    "scipy.stats.pearsonr(test1, test2)"
   ]
  },
  {
   "cell_type": "code",
   "execution_count": null,
   "id": "9187d32b",
   "metadata": {
    "scrolled": false
   },
   "outputs": [],
   "source": [
    "#Pearson correlation between glucose uptake rate and ethanol production rate\n",
    "scipy.stats.pearsonr(test3, test2)"
   ]
  }
 ],
 "metadata": {
  "kernelspec": {
   "display_name": "Python 3",
   "language": "python",
   "name": "python3"
  },
  "language_info": {
   "codemirror_mode": {
    "name": "ipython",
    "version": 3
   },
   "file_extension": ".py",
   "mimetype": "text/x-python",
   "name": "python",
   "nbconvert_exporter": "python",
   "pygments_lexer": "ipython3",
   "version": "3.7.6"
  }
 },
 "nbformat": 4,
 "nbformat_minor": 5
}
