{
 "cells": [
  {
   "cell_type": "markdown",
   "id": "bdbf6db8",
   "metadata": {},
   "source": [
    "# Extended Data Fig. 7"
   ]
  },
  {
   "cell_type": "code",
   "execution_count": 1,
   "id": "5166b126",
   "metadata": {},
   "outputs": [],
   "source": [
    "#import packages\n",
    "import numpy as np\n",
    "import matplotlib.pyplot as plt\n",
    "from matplotlib.lines import Line2D\n",
    "import pandas as pd\n",
    "import seaborn as sns\n",
    "from tqdm.auto import tqdm\n",
    "import pulp as p\n",
    "from scipy import stats\n",
    "import scipy as scipy\n",
    "import matplotlib.patches as mpatches"
   ]
  },
  {
   "cell_type": "code",
   "execution_count": 2,
   "id": "fa872189",
   "metadata": {},
   "outputs": [],
   "source": [
    "#pip install pyppeteer"
   ]
  },
  {
   "cell_type": "code",
   "execution_count": 3,
   "id": "2f84e09f",
   "metadata": {},
   "outputs": [],
   "source": [
    "#pip install pulp"
   ]
  },
  {
   "cell_type": "code",
   "execution_count": 4,
   "id": "fb31c02b",
   "metadata": {},
   "outputs": [],
   "source": [
    "# don't print warning messages\n",
    "import warnings\n",
    "warnings.filterwarnings('ignore')"
   ]
  },
  {
   "cell_type": "code",
   "execution_count": 5,
   "id": "75346117",
   "metadata": {},
   "outputs": [],
   "source": [
    "def warburgModel(Glucose_Uptake_Rate, Y_Glyc, Y_Resp, V_Resp, V_Glyc, Mass_Fract_ATP, organism):\n",
    "    \n",
    "    '''The Warburg Model primary function is this publication. The function utilizes the analytical solution to \n",
    "    maximize the ATP production rate (umol ATP per mg cellular protein per min) \n",
    "    by assigning the functional fraction of fermentation and respiration in the ATP-producing proteome.\n",
    "    \n",
    "    The inputs into the model are:\n",
    "    (1) glucose glucose uptake rate (umol glucose per mg cellular protein per min)- Glucose_Uptake_Rate\n",
    "    (2) ATP Yield per molecule of glucose for fermentation and respiation - Y_Glyc & Y_Resp\n",
    "    (3) Specific activity of fermentation and respiation (umol per mg pathway protein per min) - V_Resp & V_Glyc\n",
    "    (4) Fraction of the proteome for ATP-producing enzymes - Mass_Fract_ATP\n",
    "    \n",
    "    The outputs of the function are:\n",
    "    (1) Functional proteome occupancy of fermentation and respiration -  Mass_Fract_Glyc & Mass_Fract_Resp\n",
    "    (2) Maximal ATP production rate - ATP production rate (umol per mg cellular protein per min)\n",
    "    (3) Rate of fermentation and respiration that produce the maximal ATP production rate - Lact_rate & Resp_rate (umol per mg cellular protein per min)'''\n",
    "\n",
    "    if V_Glyc * Y_Glyc > V_Resp * Y_Resp and V_Glyc * Mass_Fract_ATP <= Glucose_Uptake_Rate:\n",
    "        #print(1)\n",
    "        Mass_Fract_Glyc = max(0, Mass_Fract_ATP)\n",
    "        Mass_Fract_Resp = 0\n",
    "    elif V_Glyc * Y_Glyc < V_Resp * Y_Resp and V_Resp * Mass_Fract_ATP <= Glucose_Uptake_Rate:\n",
    "        #print(2)\n",
    "        Mass_Fract_Glyc = 0\n",
    "        Mass_Fract_Resp = max(0, Mass_Fract_ATP)\n",
    "    elif Y_Glyc > Y_Resp and V_Glyc * Mass_Fract_ATP >= Glucose_Uptake_Rate:\n",
    "        #print(3)\n",
    "        Mass_Fract_Glyc = max(0, Glucose_Uptake_Rate / V_Glyc)\n",
    "        Mass_Fract_Resp = 0\n",
    "    elif Y_Glyc < Y_Resp and V_Resp * Mass_Fract_ATP >= Glucose_Uptake_Rate:\n",
    "        #print(4)\n",
    "        Mass_Fract_Glyc = 0\n",
    "        Mass_Fract_Resp = max(0, Glucose_Uptake_Rate / V_Resp)\n",
    "    else: \n",
    "        #print(5)\n",
    "        Mass_Fract_Glyc = max(0, (Mass_Fract_ATP * V_Resp - Glucose_Uptake_Rate) / (V_Resp-V_Glyc))\n",
    "        Mass_Fract_Resp = max(0, (Glucose_Uptake_Rate - Mass_Fract_ATP * V_Glyc) / (V_Resp-V_Glyc))\n",
    "\n",
    "    ATP_rate = Y_Glyc * V_Glyc * Mass_Fract_Glyc + Y_Resp * V_Resp * Mass_Fract_Resp \n",
    "    if organism == 'ecoli': \n",
    "        \n",
    "        #Calculation of Acetate Production and Oxygen Consumption Rates\n",
    "        #Note the a seperate calculation in in necessary for E. coli since Acetate Respiration Consumes Oxygen\n",
    "        Lact_rate = 2 * p.value(Mass_Fract_Glyc) * V_Glyc\n",
    "        Resp_rate = 6 * p.value(Mass_Fract_Resp) * V_Resp + p.value(Mass_Fract_Glyc) * 2 * V_Glyc\n",
    "    \n",
    "    else:  \n",
    "        \n",
    "        #Calculation of Ethanol/Lactate Production and Oxygen Consumption Rates\n",
    "        Lact_rate = 2 * p.value(Mass_Fract_Glyc) * V_Glyc\n",
    "        Resp_rate = 6 * p.value(Mass_Fract_Resp) * V_Resp\n",
    "    \n",
    "    df = pd.DataFrame({'gluc' : [Glucose_Uptake_Rate], \n",
    "                       'glyc_mass' : [Mass_Fract_Glyc], 'resp_mass' : [Mass_Fract_Resp], \n",
    "                       'lact' : [Lact_rate], 'o2' : [Resp_rate]})\n",
    "  \n",
    "    # Printing the final solution\n",
    "    return(Mass_Fract_Glyc, Mass_Fract_Resp, ATP_rate, Lact_rate, Resp_rate) \n",
    "\n"
   ]
  },
  {
   "cell_type": "code",
   "execution_count": 6,
   "id": "6430f37e",
   "metadata": {},
   "outputs": [],
   "source": [
    "def warburgCI(df): \n",
    "    \n",
    "    '''Calculates the 95 confidence interval for each output of the model'''\n",
    "\n",
    "    df_sub = df[['glyc_mass', 'resp_mass', 'atp', 'lact', 'o2']]\n",
    "\n",
    "    df_95_low = pd.DataFrame(np.array(df['gluc'].unique()), columns=['gluc'])\n",
    "    df_95_high = pd.DataFrame(np.array(df['gluc'].unique()), columns=['gluc'])\n",
    "\n",
    "    for column in list(df_sub.columns): \n",
    "        df_temp = df_sub[[column]]\n",
    "        df_temp = pd.concat([df[['gluc']],df_temp],axis=1)\n",
    "        #print(df_temp)\n",
    "        column_names = ['gluc', column]\n",
    "        df_95_temp_low = pd.DataFrame(columns = column_names)\n",
    "        df_95_temp_high = pd.DataFrame(columns = column_names)\n",
    "        for gluc_uptake in list(df_temp['gluc'].unique()):\n",
    "        #print(gluc_uptake)\n",
    "            sample = np.array(df_temp.loc[df_temp['gluc'] == gluc_uptake, column])\n",
    "            #mean, sigma = np.mean(sample), np.std(sample)\n",
    "            #conf_int = stats.norm.interval(0.95, loc=mean, scale=sigma)\n",
    "            #confidence95 = mean - conf_int[0]\n",
    "            sample_count = len(sample)\n",
    "            sample_high = sample_count * .975\n",
    "            sample_low = sample_count * .025\n",
    "            sample = np.sort(sample)\n",
    "            conf95_high = sample[int(sample_high) - 1]\n",
    "            conf95_low = sample[int(sample_low) - 1]\n",
    "            data_low = {'gluc': [gluc_uptake], column: [conf95_low]}\n",
    "            data_high = {'gluc': [gluc_uptake], column: [conf95_high]}\n",
    "            data_low_df = pd.DataFrame(data_low)\n",
    "            data_high_df = pd.DataFrame(data_high)\n",
    "            df_95_temp_low = df_95_temp_low.append(data_low_df)\n",
    "            df_95_temp_high = df_95_temp_high.append(data_high_df)\n",
    "        df_95_low = df_95_low.merge(df_95_temp_low, on='gluc')\n",
    "        df_95_high = df_95_high.merge(df_95_temp_high, on='gluc')\n",
    "    df_95 = pd.merge(df_95_low, df_95_high, on = 'gluc', how = 'left')\n",
    "    \n",
    "    return(df_95)    "
   ]
  },
  {
   "cell_type": "code",
   "execution_count": 7,
   "id": "07afa89e",
   "metadata": {},
   "outputs": [],
   "source": [
    "elsemann_rates = pd.read_csv('./data/elsemann_physiological_rates.csv')"
   ]
  },
  {
   "cell_type": "code",
   "execution_count": 8,
   "id": "22233b28",
   "metadata": {},
   "outputs": [],
   "source": [
    "elsemann_atp_total = pd.read_csv('./data/elsemann_atp_total_sum.csv')"
   ]
  },
  {
   "cell_type": "code",
   "execution_count": 9,
   "id": "3dbba7d0",
   "metadata": {},
   "outputs": [],
   "source": [
    "elsemann_atp_total = elsemann_atp_total[['Variable', 'Value']].rename(columns = {'Variable':'variable', 'Value':'value'})"
   ]
  },
  {
   "cell_type": "code",
   "execution_count": 10,
   "id": "207f2d7a",
   "metadata": {},
   "outputs": [],
   "source": [
    "elsemann_rates = pd.merge(elsemann_rates, elsemann_atp_total, on='variable', how = 'left')"
   ]
  },
  {
   "cell_type": "code",
   "execution_count": 11,
   "id": "ad999afa",
   "metadata": {},
   "outputs": [],
   "source": [
    "data={'variable':['cycloheximide_015_1','cycloheximide_015_2','cycloheximide_015_3','cycloheximide_015_4', \n",
    "                  'cycloheximide_025_1', 'cycloheximide_025_1', 'cycloheximide_025_1', 'cycloheximide_025_1', \n",
    "                  'cycloheximide_033_1', 'cycloheximide_033_2', 'cycloheximide_033_3', 'cycloheximide_033_2', \n",
    "                  'cycloheximide_037_1', 'cycloheximide_037_2', 'cycloheximide_037_3', 'cycloheximide_037_4'],\n",
    "      'Cyclohexamide':[124.51, 124.51, 124.51, 124.51, \n",
    "                       52.15, 52.15,  52.15,  52.15,  \n",
    "                       25.99, 25.99, 25.99, 25.99, \n",
    "                       0, 0, 0, 0]}\n",
    "\n",
    "df=pd.DataFrame(data)"
   ]
  },
  {
   "cell_type": "code",
   "execution_count": 12,
   "id": "1ca61b6f",
   "metadata": {
    "scrolled": true
   },
   "outputs": [],
   "source": [
    "elsemann_rates = pd.merge(elsemann_rates, df, on = 'variable')"
   ]
  },
  {
   "cell_type": "code",
   "execution_count": 13,
   "id": "e4a29c67",
   "metadata": {},
   "outputs": [],
   "source": [
    "elsemann_rates['glucose'] = (-elsemann_rates['qO2']/6) + (elsemann_rates['qEth']/2) /.4"
   ]
  },
  {
   "cell_type": "code",
   "execution_count": 14,
   "id": "aecb5aa3",
   "metadata": {},
   "outputs": [],
   "source": [
    "elsemann_rates['glu60'] = elsemann_rates['glucose']/60"
   ]
  },
  {
   "cell_type": "code",
   "execution_count": 15,
   "id": "8dfb7f5f",
   "metadata": {
    "scrolled": false
   },
   "outputs": [
    {
     "data": {
      "image/png": "[encoded data removed]",
      "text/plain": [
       "<Figure size 576x576 with 1 Axes>"
      ]
     },
     "metadata": {
      "needs_background": "light"
     },
     "output_type": "display_data"
    }
   ],
   "source": [
    "#Plot Figure \n",
    "fig, ax = plt.subplots(figsize=(8,8))\n",
    "ax.patch.set_facecolor('white')\n",
    "sns.set_context(\"talk\")\n",
    "\n",
    "ax.patch.set_facecolor('white')\n",
    "sns.scatterplot(elsemann_rates['Cyclohexamide'], elsemann_rates['value'], color = 'black', alpha=.9, linewidth = 0, s=200, zorder = 4)\n",
    "ax.set_ylim(0, 0.25)\n",
    "#ax.set_xlim(-0.02, 0.6)\n",
    "\n",
    "#axis format\n",
    "ax.set_xlabel(\"Cycloheximide (\" r'$ \\mu g$ $ \\mathrm{L}^{-1} $)', fontsize=23)\n",
    "ax.set_ylabel(\"$ \\phi^{ATP}_{Total} $\", fontsize=23)\n",
    "ax.tick_params(axis='both', which='major', labelsize=20, left=False, bottom=False)\n",
    "\n",
    "#save figure\n",
    "fig.savefig('./Figures/fig_cycloheximide_treatment.svg',format='svg', dpi=1200)"
   ]
  },
  {
   "cell_type": "code",
   "execution_count": 16,
   "id": "c2a7049d",
   "metadata": {},
   "outputs": [],
   "source": [
    "slope, intercept, r_value, p_value, std_err = stats.linregress(elsemann_rates['glu60'],elsemann_rates['value'])"
   ]
  },
  {
   "cell_type": "code",
   "execution_count": 17,
   "id": "c352a749",
   "metadata": {},
   "outputs": [],
   "source": [
    "x = np.arange(-.1,1, .01)\n",
    "y = slope * x + intercept"
   ]
  },
  {
   "cell_type": "code",
   "execution_count": 18,
   "id": "637270c7",
   "metadata": {},
   "outputs": [
    {
     "data": {
      "image/png": "[encoded data removed]",
      "text/plain": [
       "<Figure size 576x576 with 1 Axes>"
      ]
     },
     "metadata": {
      "needs_background": "light"
     },
     "output_type": "display_data"
    }
   ],
   "source": [
    "#Plot Figure \n",
    "fig, ax = plt.subplots(figsize=(8,8))\n",
    "ax.patch.set_facecolor('white')\n",
    "sns.set_context(\"talk\")\n",
    "\n",
    "ax.patch.set_facecolor('white')\n",
    "sns.scatterplot(elsemann_rates['glu60'], elsemann_rates['value'], color = 'black', alpha=.9, linewidth = 0, s=200, zorder = 4)\n",
    "ax.set_ylim(0, 0.25)\n",
    "ax.set_xlim(-0.02, 0.6)\n",
    "\n",
    "sns.lineplot(x=x, y=y, color = 'black')\n",
    "\n",
    "#axis format\n",
    "ax.set_xlabel(\"Glucose Uptake Rate\" r'$ \\left(\\frac{\\mu mol}{mg_{protein} \\cdot min^{}}\\right)$', fontsize=23)\n",
    "ax.set_ylabel(\"$ \\phi^{ATP}_{Total} $\", fontsize=23)\n",
    "ax.tick_params(axis='both', which='major', labelsize=20, left=False, bottom=False)\n",
    "\n",
    "\n",
    "tl = ((ax.get_xlim()[1] - ax.get_xlim()[0])*0.010 + ax.get_xlim()[0],\n",
    "      (ax.get_ylim()[1] - ax.get_ylim()[0])*0.95 + ax.get_ylim()[0])\n",
    "ax.text(tl[0], tl[1], r\"$ R^2 = {}, $p$ = {}$\".format(round(r_value, 3), round(p_value, 10)), fontsize = 16)\n",
    "\n",
    "#save figure\n",
    "fig.savefig('./Figures/fig_cycloheximide_glucose_expansion.svg',format='svg', dpi=1200)"
   ]
  },
  {
   "cell_type": "code",
   "execution_count": 19,
   "id": "d920c1c0",
   "metadata": {},
   "outputs": [],
   "source": [
    "def warburgLoop(rates, proteomics, ferm_proteomics, resp_proteomics, gly_proteomics, Y_Glyc, Y_Resp, min_gluc, max_gluc, organism): \n",
    "    \n",
    "    '''Performs bootstrapping to resample the five parameter estimates (i.e. fraction of \n",
    "    the proteome occupied by pathway, specific activity, and ATP yield) with replacement (N=10,000). \n",
    "    After each round of sampling, the specific activity of each pathway is calculated. The sampled \n",
    "    parameter values for proteome occupied by pathway, specific activity, and ATP yield from each \n",
    "    round of bootstrapping are used in the linear program described in the function above. \n",
    "    All 10,000 results are stored in a data frame, which in the output.'''\n",
    "\n",
    "    results_final = []\n",
    "    \n",
    "       \n",
    "    for j in tqdm(range(10000)):\n",
    "        V_Resp = []\n",
    "        V_Glyc = []\n",
    "        Mass_Fract_ATP = []\n",
    "    \n",
    "        #random choice with replacement for each paramter \n",
    "        sample_activity_respiration = rates.loc[rates['pathway'] == 'Respiration', 'glucose uptake rate  (mmol gprotein-1 hr-1)'].unique() / 60\n",
    "        #print(sample_activity_respiration)\n",
    "        sample_activity_fermentation = rates.loc[rates['pathway'] == 'Fermentation', 'glucose uptake rate  (mmol gprotein-1 hr-1)'].unique() / 60\n",
    "        #print(sample_activity_fermentation)\n",
    "        sample_mass_respiraition = resp_proteomics.loc[(resp_proteomics['estimate'] == 'respiration'), 'value'].unique()\n",
    "        #print(sample_mass_respiraition)\n",
    "        sample_mass_fermentation = ferm_proteomics.loc[(ferm_proteomics['estimate'] == 'fermentation'), 'value'].unique()\n",
    "        #print(sample_mass_fermentation)\n",
    "        sample_mass_ATP = proteomics['value'].unique()\n",
    "        sample_mass_glycolysis = gly_proteomics.loc[(gly_proteomics['estimate'] == 'fermentation'), 'value'].unique() \n",
    "        \n",
    "        sample_size_activity_respiration = len(sample_activity_respiration)\n",
    "        sample_size_activity_fermentation = len(sample_activity_fermentation)\n",
    "        sample_size_mass_respiraition = len(sample_mass_respiraition)\n",
    "        sample_size_mass_fermentation = len(sample_mass_fermentation)\n",
    "        sample_size_mass_ATP = len(sample_mass_ATP)\n",
    "        sample_size_mass_glycolysis= len(sample_mass_glycolysis)\n",
    "    \n",
    "        sample_specific_activity_fermentation = np.random.choice(sample_activity_fermentation, size=sample_size_activity_fermentation,replace=True)\n",
    "        sample_specific_activity_respiration = np.random.choice(sample_activity_respiration, size=sample_size_activity_respiration, replace=True)\n",
    "        sample_fraction_fermentation = np.random.choice(sample_mass_fermentation, size=sample_size_mass_fermentation, replace=True)\n",
    "        sample_fraction_respiration = np.random.choice(sample_mass_respiraition, size=sample_size_mass_respiraition, replace=True)\n",
    "        sample_fraction_ATP = np.random.choice(sample_mass_ATP, size=sample_size_mass_ATP, replace=True)\n",
    "        sample_fraction_glycolysis = np.random.choice(sample_mass_glycolysis, size=sample_size_mass_glycolysis, replace=True)\n",
    "        \n",
    "        #calculate model parameters for current bootstrap iteration   \n",
    "        V_Resp =  sample_specific_activity_respiration.mean() / (sample_fraction_respiration.mean())\n",
    "        #print(V_Resp)\n",
    "        V_Glyc = sample_specific_activity_fermentation.mean() / sample_fraction_fermentation.mean() \n",
    "        #print(V_Glyc)\n",
    "        #print(sample_specific_activity_fermentation.mean())\n",
    "        \n",
    "        V_Glyc_2 = sample_specific_activity_fermentation.mean() / sample_fraction_glycolysis.mean() \n",
    "        \n",
    "        rate_ratio = V_Resp / V_Glyc_2\n",
    "        \n",
    "        V_Resp =  sample_specific_activity_respiration.mean() / (sample_fraction_respiration.mean() + sample_fraction_glycolysis.mean() * rate_ratio)\n",
    "\n",
    "        #print(V_Glyc)\n",
    "        #print(V_Resp)\n",
    "        \n",
    "        Mass_Fract_ATP = sample_fraction_ATP.mean() \n",
    "        #print(Mass_Fract_ATP)\n",
    "        Y_Glyc = Y_Glyc\n",
    "        Y_Resp = Y_Resp\n",
    "        \n",
    "        #glucose uptake rates to loop through \n",
    "        gluc = np.linspace(min_gluc, max_gluc, 200)\n",
    "        \n",
    "        #Empty arrays to save results\n",
    "        glucose_uptake = []\n",
    "        glyc_mass = []\n",
    "        resp_mass = []\n",
    "        atp = []\n",
    "        lact = []\n",
    "        o2 = []\n",
    "    \n",
    "        #loop through the linear model for each glucose uptake rate\n",
    "        for i in range(len(gluc)):\n",
    "            loop_result = (warburgModel(gluc[i], Y_Glyc, Y_Resp, V_Resp, V_Glyc, Mass_Fract_ATP, organism)) \n",
    "            #print(loop_result)\n",
    "            \n",
    "            glyc_mass.append(loop_result[0])\n",
    "            resp_mass.append(loop_result[1])\n",
    "            atp.append(loop_result[2])\n",
    "            lact.append(loop_result[3])\n",
    "            o2.append(loop_result[4])\n",
    "            glucose_uptake.append(gluc[i])\n",
    "            \n",
    "        results = [glyc_mass, resp_mass, atp, lact, o2, glucose_uptake]\n",
    "        \n",
    "        #Append the outputs for each bootstrap iteration\n",
    "        results_final.append(results)\n",
    "    \n",
    "    #Convert the array into a dataframe\n",
    "    df = pd.DataFrame({'gluc' : [], 'glyc_mass' : [], 'resp_mass' : [], 'atp' : [], 'lact' : [], 'o2' : []})\n",
    "\n",
    "    for i in range(len(results_final)):\n",
    "        df_temp_gluc = pd.DataFrame({'gluc' : results_final[i][5]})\n",
    "        df_temp_gly = pd.DataFrame({'glyc_mass' : results_final[i][0]})\n",
    "        df_temp_resp = pd.DataFrame({'resp_mass' : results_final[i][1]})\n",
    "        df_temp_atp = pd.DataFrame({'atp' : results_final[i][2]})\n",
    "        df_temp_lac = pd.DataFrame({'lact' : results_final[i][3]})\n",
    "        df_temp_o2 = pd.DataFrame({'o2' : results_final[i][4]})\n",
    "        out = df_temp_gluc.join([df_temp_gly, df_temp_resp, df_temp_atp, df_temp_lac, df_temp_o2])\n",
    "        \n",
    "        df = pd.concat([df, out])\n",
    "        \n",
    "    return(df)"
   ]
  },
  {
   "cell_type": "code",
   "execution_count": 20,
   "id": "1afeed39",
   "metadata": {},
   "outputs": [],
   "source": [
    "#parameter estimates for proteome occupany\n",
    "proteomics = pd.read_csv('./Data/2024_02_25_yeast_atp_total_core.csv')\n",
    "\n",
    "#parameters estimates for specfic activity\n",
    "rates = pd.read_csv('./Data/yeast_cellular_rates.csv')\n",
    "\n",
    "#parameters estimates for specfic activity proteome\n",
    "resp_proteomics = pd.read_csv('./Data/2024_02_25_yeast_specific_activity_resp_core.csv')\n",
    "ferm_proteomics = pd.read_csv('./Data/2024_02_25_yeast_specific_activity_fermentation.csv')"
   ]
  },
  {
   "cell_type": "code",
   "execution_count": 21,
   "id": "053c2b7d",
   "metadata": {
    "scrolled": true
   },
   "outputs": [
    {
     "data": {
      "application/vnd.jupyter.widget-view+json": {
       "model_id": "6c70221a77a249f0b6c5ab3ed98cd700",
       "version_major": 2,
       "version_minor": 0
      },
      "text/plain": [
       "  0%|          | 0/10000 [00:00<?, ?it/s]"
      ]
     },
     "metadata": {},
     "output_type": "display_data"
    }
   ],
   "source": [
    "#data into warburgLoop function\n",
    "yeast_model_expand = warburgLoop(rates, proteomics, ferm_proteomics, resp_proteomics, ferm_proteomics, 2, 16, 0.1/60, 39/60, 'yeast')"
   ]
  },
  {
   "cell_type": "code",
   "execution_count": 22,
   "id": "bb419534",
   "metadata": {},
   "outputs": [],
   "source": [
    "#calculate confidence interval \n",
    "yeast_model_conf_expand = warburgCI(yeast_model_expand)\n",
    "max_conf_expand = np.array(yeast_model_conf_expand['lact_x'])\n",
    "min_conf_expand = np.array(yeast_model_conf_expand['lact_y'])\n",
    "yeast_min_expand = next(i for i, x in enumerate(max_conf_expand) if x > 0)\n",
    "yeast_max_expand = next(i for i, x in enumerate(min_conf_expand) if x > 0)\n",
    "\n",
    "#reset index\n",
    "yeast_model_mean_expand = yeast_model_expand.groupby('gluc').median().reset_index()"
   ]
  },
  {
   "cell_type": "code",
   "execution_count": 23,
   "id": "e38e5d6b",
   "metadata": {},
   "outputs": [],
   "source": [
    "elsemann_rates_cyc = elsemann_rates.loc[elsemann_rates['variable'].str.contains('cyc')]"
   ]
  },
  {
   "cell_type": "code",
   "execution_count": 24,
   "id": "935f724b",
   "metadata": {},
   "outputs": [
    {
     "data": {
      "image/png": "[encoded data removed]",
      "text/plain": [
       "<Figure size 576x576 with 1 Axes>"
      ]
     },
     "metadata": {
      "needs_background": "light"
     },
     "output_type": "display_data"
    }
   ],
   "source": [
    "#Plot Figure 3e\n",
    "#Model predictions of fermentation and respiration rates in S. cerevisiae\n",
    "fig, ax = plt.subplots(figsize=(8,8))\n",
    "ax.patch.set_facecolor('white')\n",
    "\n",
    "#plot model predictions \n",
    "ax.plot(yeast_model_mean_expand['gluc'], yeast_model_mean_expand['lact'], color = 'crimson', linewidth = 2, label='Model Ethanol Production')\n",
    "ax.fill_between(yeast_model_mean_expand['gluc'], yeast_model_conf_expand['lact_y'], yeast_model_conf_expand['lact_x'], color = 'crimson', alpha=0.2, linewidth = 0)\n",
    "ax.plot(yeast_model_mean_expand['gluc'], yeast_model_mean_expand['o2'], color = 'darkblue', linewidth = 2, label='Model Oxygen Consumption')\n",
    "ax.fill_between(yeast_model_mean_expand['gluc'],yeast_model_conf_expand['o2_y'], yeast_model_conf_expand['o2_x'], alpha=0.2, linewidth = 0)\n",
    "\n",
    "#plot experimental data\n",
    "sns.scatterplot(elsemann_rates_cyc['glucose']/60, elsemann_rates_cyc['qEth']/60/.44, color = 'crimson', alpha=.9, label='Experimental Ethanol Production', linewidth = 0, s=200, zorder = 3)\n",
    "sns.scatterplot(elsemann_rates_cyc['glucose']/60, elsemann_rates_cyc['qO2']/60/-.44, color = 'darkblue', alpha=.9, label='Experimental Oxygen Consumption', linewidth = 0, s=200, zorder = 4)\n",
    "\n",
    "#sns.scatterplot(yeast_experiments_sugar['Glucose Uptake Rate']/60, yeast_experiments_sugar['qEtOH']/60, color = 'crimson', alpha=.9, label='Experimental Ethanol Production', linewidth = 0, s=200, zorder = 3, style = yeast_experiments['Author'])\n",
    "#sns.scatterplot(yeast_experiments_sugar['Glucose Uptake Rate']/60, yeast_experiments_sugar['qO2']/60, color = 'darkblue', alpha=.9, label='Experimental Oxygen Consumption', linewidth = 0, s=200, zorder = 4, style = yeast_experiments['Author'])\n",
    "\n",
    "#axis format\n",
    "ax.set_xlabel(\"Glucose Uptake Rate\" r'$ \\left(\\frac{\\mu mol}{mg_{protein} \\cdot min^{}}\\right)$', fontsize=20)\n",
    "ax.set_ylabel(\"Consumption / Production Rate\" r'$ \\left(\\frac{\\mu mol}{mg_{protein} \\cdot min^{}}\\right)$', fontsize=20)\n",
    "ax.tick_params(axis='both', which='major', labelsize=20, left=False, bottom=False)\n",
    "ax.set_xlim(-1/60, 0.52)\n",
    "\n",
    "#legend format \n",
    "custom = [Line2D([0], [0], color='crimson', lw=4),\n",
    "          Line2D([0], [0], color='darkblue', lw=4),\n",
    "          Line2D([], [], marker='o', color='crimson', linestyle='None'),\n",
    "          Line2D([], [], marker='o', color='darkblue', linestyle='None')]\n",
    "plt.legend(custom, ['Model Ethanol Production', 'Model Oxygen Consumption', 'Ethanol Production (umol mgprotein-1 min-1)', 'Oxygen Consumption (umol mgprotein-1 min-1)'], fontsize = 13, loc='upper left')\n",
    "\n",
    "\n",
    "plt.tight_layout()\n",
    "\n",
    "#save figure\n",
    "fig.savefig('./Figures/fig_yeast_rates_perdiction_expand.svg',format='svg', dpi=1200)"
   ]
  },
  {
   "cell_type": "code",
   "execution_count": 25,
   "id": "60f31fb9",
   "metadata": {},
   "outputs": [],
   "source": [
    "def warburgLoop(rates, proteomics, ferm_proteomics, resp_proteomics, gly_proteomics, Y_Glyc, Y_Resp, min_gluc, max_gluc, organism): \n",
    "    \n",
    "    '''Performs bootstrapping to resample the five parameter estimates (i.e. fraction of \n",
    "    the proteome occupied by pathway, specific activity, and ATP yield) with replacement (N=10,000). \n",
    "    After each round of sampling, the specific activity of each pathway is calculated. The sampled \n",
    "    parameter values for proteome occupied by pathway, specific activity, and ATP yield from each \n",
    "    round of bootstrapping are used in the linear program described in the function above. \n",
    "    All 10,000 results are stored in a data frame, which in the output.'''\n",
    "\n",
    "    results_final = []\n",
    "    \n",
    "       \n",
    "    for j in tqdm(range(10000)):\n",
    "        V_Resp = []\n",
    "        V_Glyc = []\n",
    "        Mass_Fract_ATP = []\n",
    "    \n",
    "        #random choice with replacement for each paramter \n",
    "        sample_activity_respiration = rates.loc[rates['pathway'] == 'Respiration', 'glucose uptake rate  (mmol gprotein-1 hr-1)'].unique() / 60\n",
    "        #print(sample_activity_respiration)\n",
    "        sample_activity_fermentation = rates.loc[rates['pathway'] == 'Fermentation', 'glucose uptake rate  (mmol gprotein-1 hr-1)'].unique() / 60\n",
    "        #print(sample_activity_fermentation)\n",
    "        sample_mass_respiraition = resp_proteomics.loc[(resp_proteomics['estimate'] == 'respiration'), 'value'].unique()\n",
    "        #print(sample_mass_respiraition)\n",
    "        sample_mass_fermentation = ferm_proteomics.loc[(ferm_proteomics['estimate'] == 'fermentation'), 'value'].unique()\n",
    "        #print(sample_mass_fermentation)\n",
    "        sample_mass_ATP = proteomics['value'].unique()\n",
    "        sample_mass_glycolysis = gly_proteomics.loc[(gly_proteomics['estimate'] == 'fermentation'), 'value'].unique() \n",
    "        \n",
    "        sample_size_activity_respiration = len(sample_activity_respiration)\n",
    "        sample_size_activity_fermentation = len(sample_activity_fermentation)\n",
    "        sample_size_mass_respiraition = len(sample_mass_respiraition)\n",
    "        sample_size_mass_fermentation = len(sample_mass_fermentation)\n",
    "        sample_size_mass_ATP = len(sample_mass_ATP)\n",
    "        sample_size_mass_glycolysis= len(sample_mass_glycolysis)\n",
    "    \n",
    "        sample_specific_activity_fermentation = np.random.choice(sample_activity_fermentation, size=sample_size_activity_fermentation,replace=True)\n",
    "        sample_specific_activity_respiration = np.random.choice(sample_activity_respiration, size=sample_size_activity_respiration, replace=True)\n",
    "        sample_fraction_fermentation = np.random.choice(sample_mass_fermentation, size=sample_size_mass_fermentation, replace=True)\n",
    "        sample_fraction_respiration = np.random.choice(sample_mass_respiraition, size=sample_size_mass_respiraition, replace=True)\n",
    "        sample_fraction_ATP = np.random.choice(sample_mass_ATP, size=sample_size_mass_ATP, replace=True)\n",
    "        sample_fraction_glycolysis = np.random.choice(sample_mass_glycolysis, size=sample_size_mass_glycolysis, replace=True)\n",
    "        \n",
    "        #if organism == 'mammalian': \n",
    "            #sample_volume = volume['Volume (fl)']\n",
    "            #sample_size_volume= len(sample_volume)\n",
    "            #sample_volume_values = np.random.choice(sample_volume, size=sample_size_volume, replace=True)\n",
    "            #print(sample_volume_values.mean())\n",
    "            #calculate model parameters for current bootstrap iteration   \n",
    "            #V_Resp =  sample_specific_activity_respiration.mean() / (sample_fraction_respiration.mean()) / 300 * sample_volume_values.mean() * .128\n",
    "            ##print(V_Resp)\n",
    "            #V_Glyc = sample_specific_activity_fermentation.mean() / sample_fraction_fermentation.mean() / 300 * sample_volume_values.mean() * .128\n",
    "            #V_Glyc_2 = sample_specific_activity_fermentation.mean() / sample_fraction_glycolysis.mean() \n",
    "            #rate_ratio = V_Resp / V_Glyc_2\n",
    "            #V_Resp =  (sample_specific_activity_respiration.mean() / 300 * sample_volume_values.mean() * .128) / (sample_fraction_respiration.mean() + sample_fraction_glycolysis.mean() * rate_ratio)\n",
    "\n",
    "        \n",
    "        #else: \n",
    "        #calculate model parameters for current bootstrap iteration   \n",
    "        V_Resp =  sample_specific_activity_respiration.mean() / (sample_fraction_respiration.mean())\n",
    "        #print(V_Resp)\n",
    "        V_Glyc = sample_specific_activity_fermentation.mean() / sample_fraction_fermentation.mean() \n",
    "        #print(V_Glyc)\n",
    "        #print(sample_specific_activity_fermentation.mean())\n",
    "        V_Glyc_2 = sample_specific_activity_fermentation.mean() / sample_fraction_glycolysis.mean() \n",
    "        rate_ratio = V_Resp / V_Glyc_2\n",
    "        V_Resp =  sample_specific_activity_respiration.mean() / (sample_fraction_respiration.mean() + sample_fraction_glycolysis.mean() * rate_ratio)\n",
    "\n",
    "        #print(V_Glyc)\n",
    "        #print(V_Resp)\n",
    "        \n",
    "        #Mass_Fract_ATP = sample_fraction_ATP.mean()\n",
    "        \n",
    "        #print(Mass_Fract_ATP)\n",
    "        Y_Glyc = Y_Glyc\n",
    "        Y_Resp = Y_Resp\n",
    "        \n",
    "        #glucose uptake rates to loop through \n",
    "        gluc = np.linspace(min_gluc, max_gluc, 200)\n",
    "        \n",
    "        #Empty arrays to save results\n",
    "        glucose_uptake = []\n",
    "        glyc_mass = []\n",
    "        resp_mass = []\n",
    "        atp = []\n",
    "        lact = []\n",
    "        o2 = []\n",
    "    \n",
    "        #loop through the linear model for each glucose uptake rate\n",
    "        for i in range(len(gluc)):\n",
    "            Mass_Fract_ATP = .1759 * gluc + 0.143\n",
    "            #Mass_Fract_ATP = 0.143 + gluc * 0\n",
    "            loop_result = (warburgModel(gluc[i], Y_Glyc, Y_Resp, V_Resp, V_Glyc, Mass_Fract_ATP[i], organism)) \n",
    "            #print(loop_result)\n",
    "            \n",
    "            glyc_mass.append(loop_result[0])\n",
    "            resp_mass.append(loop_result[1])\n",
    "            atp.append(loop_result[2])\n",
    "            lact.append(loop_result[3])\n",
    "            o2.append(loop_result[4])\n",
    "            glucose_uptake.append(gluc[i])\n",
    "            \n",
    "        results = [glyc_mass, resp_mass, atp, lact, o2, glucose_uptake]\n",
    "        \n",
    "        #Append the outputs for each bootstrap iteration\n",
    "        results_final.append(results)\n",
    "    \n",
    "    #Convert the array into a dataframe\n",
    "    df = pd.DataFrame({'gluc' : [], 'glyc_mass' : [], 'resp_mass' : [], 'atp' : [], 'lact' : [], 'o2' : []})\n",
    "\n",
    "    for i in range(len(results_final)):\n",
    "        df_temp_gluc = pd.DataFrame({'gluc' : results_final[i][5]})\n",
    "        df_temp_gly = pd.DataFrame({'glyc_mass' : results_final[i][0]})\n",
    "        df_temp_resp = pd.DataFrame({'resp_mass' : results_final[i][1]})\n",
    "        df_temp_atp = pd.DataFrame({'atp' : results_final[i][2]})\n",
    "        df_temp_lac = pd.DataFrame({'lact' : results_final[i][3]})\n",
    "        df_temp_o2 = pd.DataFrame({'o2' : results_final[i][4]})\n",
    "        out = df_temp_gluc.join([df_temp_gly, df_temp_resp, df_temp_atp, df_temp_lac, df_temp_o2])\n",
    "        \n",
    "        df = pd.concat([df, out])\n",
    "        \n",
    "    return(df)"
   ]
  },
  {
   "cell_type": "code",
   "execution_count": 26,
   "id": "150b292a",
   "metadata": {},
   "outputs": [],
   "source": [
    "#parameter estimates for proteome occupany\n",
    "proteomics = pd.read_csv('./Data/2024_02_25_yeast_atp_total_core.csv')\n",
    "\n",
    "#parameters estimates for specfic activity\n",
    "rates = pd.read_csv('./Data/yeast_cellular_rates.csv')\n",
    "\n",
    "#parameters estimates for specfic activity proteome\n",
    "resp_proteomics = pd.read_csv('./Data/2024_02_25_yeast_specific_activity_resp_core.csv')\n",
    "ferm_proteomics = pd.read_csv('./Data/2024_02_25_yeast_specific_activity_fermentation.csv')"
   ]
  },
  {
   "cell_type": "code",
   "execution_count": 27,
   "id": "efff2340",
   "metadata": {
    "scrolled": true
   },
   "outputs": [
    {
     "ename": "NameError",
     "evalue": "name 'waburgLoop' is not defined",
     "output_type": "error",
     "traceback": [
      "\u001b[0;31m---------------------------------------------------------------------------\u001b[0m",
      "\u001b[0;31mNameError\u001b[0m                                 Traceback (most recent call last)",
      "\u001b[0;32m<ipython-input-27-83cd12a7ff18>\u001b[0m in \u001b[0;36m<module>\u001b[0;34m\u001b[0m\n\u001b[1;32m      1\u001b[0m \u001b[0;31m#data into warburgLoop function\u001b[0m\u001b[0;34m\u001b[0m\u001b[0;34m\u001b[0m\u001b[0;34m\u001b[0m\u001b[0m\n\u001b[0;32m----> 2\u001b[0;31m \u001b[0myeast_model_expand\u001b[0m \u001b[0;34m=\u001b[0m \u001b[0mwaburgLoop\u001b[0m\u001b[0;34m(\u001b[0m\u001b[0mrates\u001b[0m\u001b[0;34m,\u001b[0m \u001b[0mproteomics\u001b[0m\u001b[0;34m,\u001b[0m \u001b[0mferm_proteomics\u001b[0m\u001b[0;34m,\u001b[0m \u001b[0mresp_proteomics\u001b[0m\u001b[0;34m,\u001b[0m \u001b[0mferm_proteomics\u001b[0m\u001b[0;34m,\u001b[0m \u001b[0;36m2\u001b[0m\u001b[0;34m,\u001b[0m \u001b[0;36m16\u001b[0m\u001b[0;34m,\u001b[0m \u001b[0;36m0.1\u001b[0m\u001b[0;34m/\u001b[0m\u001b[0;36m60\u001b[0m\u001b[0;34m,\u001b[0m \u001b[0;36m39\u001b[0m\u001b[0;34m/\u001b[0m\u001b[0;36m60\u001b[0m\u001b[0;34m,\u001b[0m \u001b[0;34m'yeast'\u001b[0m\u001b[0;34m)\u001b[0m\u001b[0;34m\u001b[0m\u001b[0;34m\u001b[0m\u001b[0m\n\u001b[0m",
      "\u001b[0;31mNameError\u001b[0m: name 'waburgLoop' is not defined"
     ]
    }
   ],
   "source": [
    "#data into warburgLoop function\n",
    "yeast_model_expand = waburgLoop(rates, proteomics, ferm_proteomics, resp_proteomics, ferm_proteomics, 2, 16, 0.1/60, 39/60, 'yeast')"
   ]
  },
  {
   "cell_type": "code",
   "execution_count": null,
   "id": "a8ec8b88",
   "metadata": {},
   "outputs": [],
   "source": [
    "#calculate confidence interval \n",
    "yeast_model_conf_expand = warburgCI(yeast_model_expand)\n",
    "max_conf_expand = np.array(yeast_model_conf_expand['lact_x'])\n",
    "min_conf_expand = np.array(yeast_model_conf_expand['lact_y'])\n",
    "yeast_min_expand = next(i for i, x in enumerate(max_conf_expand) if x > 0)\n",
    "yeast_max_expand = next(i for i, x in enumerate(min_conf_expand) if x > 0)\n",
    "\n",
    "#reset index\n",
    "yeast_model_mean_expand = yeast_model_expand.groupby('gluc').median().reset_index()"
   ]
  },
  {
   "cell_type": "code",
   "execution_count": null,
   "id": "4f61f0ae",
   "metadata": {},
   "outputs": [],
   "source": [
    "#elsemann_rates_gly = elsemann_rates.loc[(elsemann_rates['type'] == 'glycolysis')  & (elsemann_rates['variable'].str.contains('cyc'))]"
   ]
  },
  {
   "cell_type": "code",
   "execution_count": null,
   "id": "32ceef33",
   "metadata": {},
   "outputs": [],
   "source": [
    "elsemann_rates_cyc = elsemann_rates.loc[elsemann_rates['variable'].str.contains('cyc')]"
   ]
  },
  {
   "cell_type": "code",
   "execution_count": null,
   "id": "3a15273e",
   "metadata": {},
   "outputs": [],
   "source": [
    "#Plot Figure 3e\n",
    "#Model predictions of fermentation and respiration rates in S. cerevisiae\n",
    "fig, ax = plt.subplots(figsize=(8,8))\n",
    "ax.patch.set_facecolor('white')\n",
    "\n",
    "#plot model predictions \n",
    "ax.plot(yeast_model_mean_expand['gluc'], yeast_model_mean_expand['lact'], color = 'crimson', linewidth = 2, label='Model Ethanol Production')\n",
    "ax.fill_between(yeast_model_mean_expand['gluc'], yeast_model_conf_expand['lact_y'], yeast_model_conf_expand['lact_x'], color = 'crimson', alpha=0.2, linewidth = 0)\n",
    "ax.plot(yeast_model_mean_expand['gluc'], yeast_model_mean_expand['o2'], color = 'darkblue', linewidth = 2, label='Model Oxygen Consumption')\n",
    "ax.fill_between(yeast_model_mean_expand['gluc'],yeast_model_conf_expand['o2_y'], yeast_model_conf_expand['o2_x'], alpha=0.2, linewidth = 0)\n",
    "\n",
    "#plot experimental data\n",
    "sns.scatterplot(elsemann_rates_cyc['glucose']/60, elsemann_rates_cyc['qEth']/60/.44, color = 'crimson', alpha=.9, label='Experimental Ethanol Production', linewidth = 0, s=200, zorder = 3)\n",
    "sns.scatterplot(elsemann_rates_cyc['glucose']/60, elsemann_rates_cyc['qO2']/60/-.44, color = 'darkblue', alpha=.9, label='Experimental Oxygen Consumption', linewidth = 0, s=200, zorder = 4)\n",
    "\n",
    "#sns.scatterplot(yeast_experiments_sugar['Glucose Uptake Rate']/60, yeast_experiments_sugar['qEtOH']/60, color = 'crimson', alpha=.9, label='Experimental Ethanol Production', linewidth = 0, s=200, zorder = 3, style = yeast_experiments['Author'])\n",
    "#sns.scatterplot(yeast_experiments_sugar['Glucose Uptake Rate']/60, yeast_experiments_sugar['qO2']/60, color = 'darkblue', alpha=.9, label='Experimental Oxygen Consumption', linewidth = 0, s=200, zorder = 4, style = yeast_experiments['Author'])\n",
    "\n",
    "#axis format\n",
    "ax.set_xlabel(\"Glucose Uptake Rate\" r'$ \\left(\\frac{\\mu mol}{mg_{protein} \\cdot min^{}}\\right)$', fontsize=20)\n",
    "ax.set_ylabel(\"Consumption / Production Rate\" r'$ \\left(\\frac{\\mu mol}{mg_{protein} \\cdot min^{}}\\right)$', fontsize=20)\n",
    "ax.tick_params(axis='both', which='major', labelsize=20, left=False, bottom=False)\n",
    "ax.set_xlim(-1/60, 0.52)\n",
    "\n",
    "#legend format \n",
    "custom = [Line2D([0], [0], color='crimson', lw=4),\n",
    "          Line2D([0], [0], color='darkblue', lw=4),\n",
    "          Line2D([], [], marker='o', color='crimson', linestyle='None'),\n",
    "          Line2D([], [], marker='o', color='darkblue', linestyle='None')]\n",
    "plt.legend(custom, ['Model Ethanol Production', 'Model Oxygen Consumption', 'Ethanol Production (umol mgprotein-1 min-1)', 'Oxygen Consumption (umol mgprotein-1 min-1)'], fontsize = 13, loc='upper left')\n",
    "\n",
    "\n",
    "plt.tight_layout()\n",
    "\n",
    "#save figure\n",
    "fig.savefig('./Figures/fig_yeast_rates_perdiction_expand_2.svg',format='svg', dpi=1200)"
   ]
  }
 ],
 "metadata": {
  "kernelspec": {
   "display_name": "Python 3",
   "language": "python",
   "name": "python3"
  },
  "language_info": {
   "codemirror_mode": {
    "name": "ipython",
    "version": 3
   },
   "file_extension": ".py",
   "mimetype": "text/x-python",
   "name": "python",
   "nbconvert_exporter": "python",
   "pygments_lexer": "ipython3",
   "version": "3.7.6"
  }
 },
 "nbformat": 4,
 "nbformat_minor": 5
}
