{
 "cells": [
  {
   "cell_type": "markdown",
   "id": "bdbf6db8",
   "metadata": {},
   "source": [
    "# Extended Data Fig. 6 C to F"
   ]
  },
  {
   "cell_type": "code",
   "execution_count": null,
   "id": "5166b126",
   "metadata": {},
   "outputs": [],
   "source": [
    "#import packages\n",
    "import numpy as np\n",
    "import matplotlib.pyplot as plt\n",
    "from matplotlib.lines import Line2D\n",
    "import pandas as pd\n",
    "import seaborn as sns\n",
    "from tqdm.auto import tqdm\n",
    "import pulp as p\n",
    "from scipy import stats\n",
    "import scipy as scipy\n",
    "import matplotlib.patches as mpatches"
   ]
  },
  {
   "cell_type": "code",
   "execution_count": null,
   "id": "fa872189",
   "metadata": {},
   "outputs": [],
   "source": [
    "#pip install pyppeteer"
   ]
  },
  {
   "cell_type": "code",
   "execution_count": null,
   "id": "fb31c02b",
   "metadata": {},
   "outputs": [],
   "source": [
    "# don't print warning messages\n",
    "import warnings\n",
    "warnings.filterwarnings('ignore')"
   ]
  },
  {
   "cell_type": "code",
   "execution_count": null,
   "id": "75346117",
   "metadata": {},
   "outputs": [],
   "source": [
    "def warburgModel(Glucose_Uptake_Rate, Y_Glyc, Y_Resp, V_Resp, V_Glyc, Mass_Fract_ATP, organism):\n",
    "    \n",
    "    '''The Warburg Model primary function is this publication. The function utilizes the analytical solution to \n",
    "    maximize the ATP production rate (umol ATP per mg cellular protein per min) \n",
    "    by assigning the functional fraction of fermentation and respiration in the ATP-producing proteome.\n",
    "    \n",
    "    The inputs into the model are:\n",
    "    (1) glucose glucose uptake rate (umol glucose per mg cellular protein per min)- Glucose_Uptake_Rate\n",
    "    (2) ATP Yield per molecule of glucose for fermentation and respiation - Y_Glyc & Y_Resp\n",
    "    (3) Specific activity of fermentation and respiation (umol per mg pathway protein per min) - V_Resp & V_Glyc\n",
    "    (4) Fraction of the proteome for ATP-producing enzymes - Mass_Fract_ATP\n",
    "    \n",
    "    The outputs of the function are:\n",
    "    (1) Functional proteome occupancy of fermentation and respiration -  Mass_Fract_Glyc & Mass_Fract_Resp\n",
    "    (2) Maximal ATP production rate - ATP production rate (umol per mg cellular protein per min)\n",
    "    (3) Rate of fermentation and respiration that produce the maximal ATP production rate - Lact_rate & Resp_rate (umol per mg cellular protein per min)'''\n",
    "\n",
    "    if V_Glyc * Y_Glyc > V_Resp * Y_Resp and V_Glyc * Mass_Fract_ATP <= Glucose_Uptake_Rate:\n",
    "        #print(1)\n",
    "        Mass_Fract_Glyc = max(0, Mass_Fract_ATP)\n",
    "        Mass_Fract_Resp = 0\n",
    "    elif V_Glyc * Y_Glyc < V_Resp * Y_Resp and V_Resp * Mass_Fract_ATP <= Glucose_Uptake_Rate:\n",
    "        #print(2)\n",
    "        Mass_Fract_Glyc = 0\n",
    "        Mass_Fract_Resp = max(0, Mass_Fract_ATP)\n",
    "    elif Y_Glyc > Y_Resp and V_Glyc * Mass_Fract_ATP >= Glucose_Uptake_Rate:\n",
    "        #print(3)\n",
    "        Mass_Fract_Glyc = max(0, Glucose_Uptake_Rate / V_Glyc)\n",
    "        Mass_Fract_Resp = 0\n",
    "    elif Y_Glyc < Y_Resp and V_Resp * Mass_Fract_ATP >= Glucose_Uptake_Rate:\n",
    "        #print(4)\n",
    "        Mass_Fract_Glyc = 0\n",
    "        Mass_Fract_Resp = max(0, Glucose_Uptake_Rate / V_Resp)\n",
    "    else: \n",
    "        #print(5)\n",
    "        Mass_Fract_Glyc = max(0, (Mass_Fract_ATP * V_Resp - Glucose_Uptake_Rate) / (V_Resp-V_Glyc))\n",
    "        Mass_Fract_Resp = max(0, (Glucose_Uptake_Rate - Mass_Fract_ATP * V_Glyc) / (V_Resp-V_Glyc))\n",
    "\n",
    "    ATP_rate = Y_Glyc * V_Glyc * Mass_Fract_Glyc + Y_Resp * V_Resp * Mass_Fract_Resp \n",
    "    if organism == 'ecoli': \n",
    "        \n",
    "        #Calculation of Acetate Production and Oxygen Consumption Rates\n",
    "        #Note the a seperate calculation in in necessary for E. coli since Acetate Respiration Consumes Oxygen\n",
    "        Lact_rate = 2 * p.value(Mass_Fract_Glyc) * V_Glyc\n",
    "        Resp_rate = 6 * p.value(Mass_Fract_Resp) * V_Resp + p.value(Mass_Fract_Glyc) * 2 * V_Glyc\n",
    "    \n",
    "    else:  \n",
    "        \n",
    "        #Calculation of Ethanol/Lactate Production and Oxygen Consumption Rates\n",
    "        Lact_rate = 2 * p.value(Mass_Fract_Glyc) * V_Glyc\n",
    "        Resp_rate = 6 * p.value(Mass_Fract_Resp) * V_Resp\n",
    "    \n",
    "    df = pd.DataFrame({'gluc' : [Glucose_Uptake_Rate], \n",
    "                       'glyc_mass' : [Mass_Fract_Glyc], 'resp_mass' : [Mass_Fract_Resp], \n",
    "                       'lact' : [Lact_rate], 'o2' : [Resp_rate]})\n",
    "  \n",
    "    # Printing the final solution\n",
    "    return(Mass_Fract_Glyc, Mass_Fract_Resp, ATP_rate, Lact_rate, Resp_rate) \n",
    "\n"
   ]
  },
  {
   "cell_type": "code",
   "execution_count": null,
   "id": "33770dff",
   "metadata": {},
   "outputs": [],
   "source": [
    "def warburgLoop(rates, proteomics, ferm_proteomics, resp_proteomics, gly_proteomics, Y_Glyc, Y_Resp, min_gluc, max_gluc, organism): \n",
    "    \n",
    "    '''Performs bootstrapping to resample the five parameter estimates (i.e. fraction of \n",
    "    the proteome occupied by pathway, specific activity, and ATP yield) with replacement (N=10,000). \n",
    "    After each round of sampling, the specific activity of each pathway is calculated. The sampled \n",
    "    parameter values for proteome occupied by pathway, specific activity, and ATP yield from each \n",
    "    round of bootstrapping are used in the linear program described in the function above. \n",
    "    All 10,000 results are stored in a data frame, which in the output.'''\n",
    "\n",
    "    results_final = []\n",
    "    \n",
    "       \n",
    "    for j in tqdm(range(10000)):\n",
    "        V_Resp = []\n",
    "        V_Glyc = []\n",
    "        Mass_Fract_ATP = []\n",
    "    \n",
    "        #random choice with replacement for each paramter \n",
    "        sample_activity_respiration = rates.loc[rates['pathway'] == 'Respiration', 'glucose uptake rate  (mmol gprotein-1 hr-1)'].unique() / 60\n",
    "        #print(sample_activity_respiration)\n",
    "        sample_activity_fermentation = rates.loc[rates['pathway'] == 'Fermentation', 'glucose uptake rate  (mmol gprotein-1 hr-1)'].unique() / 60\n",
    "        #print(sample_activity_fermentation)\n",
    "        sample_mass_respiraition = resp_proteomics.loc[(resp_proteomics['estimate'] == 'respiration'), 'value'].unique()\n",
    "        #print(sample_mass_respiraition)\n",
    "        sample_mass_fermentation = ferm_proteomics.loc[(ferm_proteomics['estimate'] == 'fermentation'), 'value'].unique()\n",
    "        #print(sample_mass_fermentation)\n",
    "        sample_mass_ATP = proteomics['value'].unique()\n",
    "        sample_mass_glycolysis = gly_proteomics.loc[(gly_proteomics['estimate'] == 'fermentation'), 'value'].unique() \n",
    "        \n",
    "        sample_size_activity_respiration = len(sample_activity_respiration)\n",
    "        sample_size_activity_fermentation = len(sample_activity_fermentation)\n",
    "        sample_size_mass_respiraition = len(sample_mass_respiraition)\n",
    "        sample_size_mass_fermentation = len(sample_mass_fermentation)\n",
    "        sample_size_mass_ATP = len(sample_mass_ATP)\n",
    "        sample_size_mass_glycolysis= len(sample_mass_glycolysis)\n",
    "    \n",
    "        sample_specific_activity_fermentation = np.random.choice(sample_activity_fermentation, size=sample_size_activity_fermentation,replace=True)\n",
    "        sample_specific_activity_respiration = np.random.choice(sample_activity_respiration, size=sample_size_activity_respiration, replace=True)\n",
    "        sample_fraction_fermentation = np.random.choice(sample_mass_fermentation, size=sample_size_mass_fermentation, replace=True)\n",
    "        sample_fraction_respiration = np.random.choice(sample_mass_respiraition, size=sample_size_mass_respiraition, replace=True)\n",
    "        sample_fraction_ATP = np.random.choice(sample_mass_ATP, size=sample_size_mass_ATP, replace=True)\n",
    "        sample_fraction_glycolysis = np.random.choice(sample_mass_glycolysis, size=sample_size_mass_glycolysis, replace=True)\n",
    "        \n",
    "        #calculate model parameters for current bootstrap iteration   \n",
    "        V_Resp =  sample_specific_activity_respiration.mean() / (sample_fraction_respiration.mean())\n",
    "        #print(V_Resp)\n",
    "        V_Glyc = sample_specific_activity_fermentation.mean() / sample_fraction_fermentation.mean() \n",
    "        #print(V_Glyc)\n",
    "        #print(sample_specific_activity_fermentation.mean())\n",
    "        \n",
    "        V_Glyc_2 = sample_specific_activity_fermentation.mean() / sample_fraction_glycolysis.mean() \n",
    "        \n",
    "        rate_ratio = V_Resp / V_Glyc_2\n",
    "        \n",
    "        V_Resp =  sample_specific_activity_respiration.mean() / (sample_fraction_respiration.mean() + sample_fraction_glycolysis.mean() * rate_ratio)\n",
    "\n",
    "        #print(V_Glyc)\n",
    "        #print(V_Resp)\n",
    "        \n",
    "        Mass_Fract_ATP = sample_fraction_ATP.mean() \n",
    "        #print(Mass_Fract_ATP)\n",
    "        Y_Glyc = Y_Glyc\n",
    "        Y_Resp = Y_Resp\n",
    "        \n",
    "        #glucose uptake rates to loop through \n",
    "        gluc = np.linspace(min_gluc, max_gluc, 200)\n",
    "        \n",
    "        #Empty arrays to save results\n",
    "        glucose_uptake = []\n",
    "        glyc_mass = []\n",
    "        resp_mass = []\n",
    "        atp = []\n",
    "        lact = []\n",
    "        o2 = []\n",
    "    \n",
    "        #loop through the linear model for each glucose uptake rate\n",
    "        for i in range(len(gluc)):\n",
    "            loop_result = (warburgModel(gluc[i], Y_Glyc, Y_Resp, V_Resp, V_Glyc, Mass_Fract_ATP, organism)) \n",
    "            #print(loop_result)\n",
    "            \n",
    "            glyc_mass.append(loop_result[0])\n",
    "            resp_mass.append(loop_result[1])\n",
    "            atp.append(loop_result[2])\n",
    "            lact.append(loop_result[3])\n",
    "            o2.append(loop_result[4])\n",
    "            glucose_uptake.append(gluc[i])\n",
    "            \n",
    "        results = [glyc_mass, resp_mass, atp, lact, o2, glucose_uptake]\n",
    "        \n",
    "        #Append the outputs for each bootstrap iteration\n",
    "        results_final.append(results)\n",
    "    \n",
    "    #Convert the array into a dataframe\n",
    "    df = pd.DataFrame({'gluc' : [], 'glyc_mass' : [], 'resp_mass' : [], 'atp' : [], 'lact' : [], 'o2' : []})\n",
    "\n",
    "    for i in range(len(results_final)):\n",
    "        df_temp_gluc = pd.DataFrame({'gluc' : results_final[i][5]})\n",
    "        df_temp_gly = pd.DataFrame({'glyc_mass' : results_final[i][0]})\n",
    "        df_temp_resp = pd.DataFrame({'resp_mass' : results_final[i][1]})\n",
    "        df_temp_atp = pd.DataFrame({'atp' : results_final[i][2]})\n",
    "        df_temp_lac = pd.DataFrame({'lact' : results_final[i][3]})\n",
    "        df_temp_o2 = pd.DataFrame({'o2' : results_final[i][4]})\n",
    "        out = df_temp_gluc.join([df_temp_gly, df_temp_resp, df_temp_atp, df_temp_lac, df_temp_o2])\n",
    "        \n",
    "        df = pd.concat([df, out])\n",
    "        \n",
    "    return(df)"
   ]
  },
  {
   "cell_type": "code",
   "execution_count": null,
   "id": "6430f37e",
   "metadata": {},
   "outputs": [],
   "source": [
    "def warburgCI(df): \n",
    "    \n",
    "    '''Calculates the 95 confidence interval for each output of the model'''\n",
    "\n",
    "    df_sub = df[['glyc_mass', 'resp_mass', 'atp', 'lact', 'o2']]\n",
    "\n",
    "    df_95_low = pd.DataFrame(np.array(df['gluc'].unique()), columns=['gluc'])\n",
    "    df_95_high = pd.DataFrame(np.array(df['gluc'].unique()), columns=['gluc'])\n",
    "\n",
    "    for column in list(df_sub.columns): \n",
    "        df_temp = df_sub[[column]]\n",
    "        df_temp = pd.concat([df[['gluc']],df_temp],axis=1)\n",
    "        #print(df_temp)\n",
    "        column_names = ['gluc', column]\n",
    "        df_95_temp_low = pd.DataFrame(columns = column_names)\n",
    "        df_95_temp_high = pd.DataFrame(columns = column_names)\n",
    "        for gluc_uptake in list(df_temp['gluc'].unique()):\n",
    "        #print(gluc_uptake)\n",
    "            sample = np.array(df_temp.loc[df_temp['gluc'] == gluc_uptake, column])\n",
    "            #mean, sigma = np.mean(sample), np.std(sample)\n",
    "            #conf_int = stats.norm.interval(0.95, loc=mean, scale=sigma)\n",
    "            #confidence95 = mean - conf_int[0]\n",
    "            sample_count = len(sample)\n",
    "            sample_high = sample_count * .975\n",
    "            sample_low = sample_count * .025\n",
    "            sample = np.sort(sample)\n",
    "            conf95_high = sample[int(sample_high) - 1]\n",
    "            conf95_low = sample[int(sample_low) - 1]\n",
    "            data_low = {'gluc': [gluc_uptake], column: [conf95_low]}\n",
    "            data_high = {'gluc': [gluc_uptake], column: [conf95_high]}\n",
    "            data_low_df = pd.DataFrame(data_low)\n",
    "            data_high_df = pd.DataFrame(data_high)\n",
    "            df_95_temp_low = df_95_temp_low.append(data_low_df)\n",
    "            df_95_temp_high = df_95_temp_high.append(data_high_df)\n",
    "        df_95_low = df_95_low.merge(df_95_temp_low, on='gluc')\n",
    "        df_95_high = df_95_high.merge(df_95_temp_high, on='gluc')\n",
    "    df_95 = pd.merge(df_95_low, df_95_high, on = 'gluc', how = 'left')\n",
    "    \n",
    "    return(df_95)    "
   ]
  },
  {
   "cell_type": "markdown",
   "id": "9007d21f",
   "metadata": {},
   "source": [
    "### Extended Data Fig. 6c\n",
    "### Model Estimates for *S. cerevisiae* with correlated mitochondrial proteins"
   ]
  },
  {
   "cell_type": "code",
   "execution_count": null,
   "id": "9f871553",
   "metadata": {},
   "outputs": [],
   "source": [
    "#parameter estimates for proteome occupany\n",
    "proteomics_total_partial_mito = pd.read_csv('./Data/2024_02_25_yeast_atp_total_partial_mito.csv')\n",
    "\n",
    "#parameters estimates for specfic activity\n",
    "rates = pd.read_csv('./Data/yeast_cellular_rates.csv')\n",
    "\n",
    "#parameters estimates for specfic activity proteome\n",
    "resp_proteomics_partial_mito = pd.read_csv('./Data/2024_02_25_yeast_specific_activity_resp_partial_mito.csv')\n",
    "ferm_proteomics = pd.read_csv('./Data/2024_02_25_yeast_specific_activity_fermentation.csv')"
   ]
  },
  {
   "cell_type": "code",
   "execution_count": null,
   "id": "a3bb393f",
   "metadata": {
    "scrolled": false
   },
   "outputs": [],
   "source": [
    "#data into warburgLoop function\n",
    "yeast_model = warburgLoop(rates, proteomics_total_partial_mito, ferm_proteomics, resp_proteomics_partial_mito, ferm_proteomics, 2, 16, 0.1/60, 39/60, 'yeast')"
   ]
  },
  {
   "cell_type": "code",
   "execution_count": null,
   "id": "4781a61b",
   "metadata": {},
   "outputs": [],
   "source": [
    "#calculate confidence interval \n",
    "yeast_model_conf = warburgCI(yeast_model)"
   ]
  },
  {
   "cell_type": "code",
   "execution_count": null,
   "id": "88d43881",
   "metadata": {},
   "outputs": [],
   "source": [
    "#reset index\n",
    "yeast_model_mean = yeast_model.groupby('gluc').median().reset_index()"
   ]
  },
  {
   "cell_type": "code",
   "execution_count": null,
   "id": "3cbda22a",
   "metadata": {},
   "outputs": [],
   "source": [
    "#experimental values (points on figs below) to compare to model predictions\n",
    "yeast_experiments = pd.read_csv('./Data/yeast_experimental.csv')"
   ]
  },
  {
   "cell_type": "code",
   "execution_count": null,
   "id": "5a8ed3c8",
   "metadata": {
    "scrolled": false
   },
   "outputs": [],
   "source": [
    "fig, ax = plt.subplots(figsize=(8,8))\n",
    "ax.patch.set_facecolor('white')\n",
    "sns.set_context(\"talk\")\n",
    "\n",
    "#plot model predictions \n",
    "ax.plot(yeast_model_mean['gluc'], yeast_model_mean['lact'], color = 'crimson', linewidth = 2, label='Model Ethanol Production')\n",
    "ax.fill_between(yeast_model_mean['gluc'], yeast_model_conf['lact_y'], yeast_model_conf['lact_x'], color = 'crimson', alpha=0.2, linewidth = 0)\n",
    "ax.plot(yeast_model_mean['gluc'], yeast_model_mean['o2'], color = 'darkblue', linewidth = 2, label='Model Oxygen Consumption')\n",
    "ax.fill_between(yeast_model_mean['gluc'],yeast_model_conf['o2_y'], yeast_model_conf['o2_x'], alpha=0.2, linewidth = 0)\n",
    "\n",
    "#plot experimental data\n",
    "glyc = sns.scatterplot(yeast_experiments['Glucose Consumption (mmol gprotein-1 hr-1)']/60, yeast_experiments['Ethanol Production (mmol gprotein-1 hr-1)']/60, color = 'crimson', alpha=.9, label='Experimental Ethanol Production', linewidth = 0, s=200, zorder = 3, style = yeast_experiments['Author'])\n",
    "sns.scatterplot(yeast_experiments['Glucose Consumption (mmol gprotein-1 hr-1)']/60, yeast_experiments['Oxygen Consumption (mmol gprotein-1 hr-1)']/60, color = 'darkblue', alpha=.9, label='Experimental Oxygen Consumption', linewidth = 0, s=200, zorder = 4, style = yeast_experiments['Author'])\n",
    "\n",
    "#sns.scatterplot(yeast_experiments_sugar['Glucose Uptake Rate']/60, yeast_experiments_sugar['qEtOH']/60, color = 'crimson', alpha=.9, label='Experimental Ethanol Production', linewidth = 0, s=200, zorder = 3, style = yeast_experiments['Author'])\n",
    "#sns.scatterplot(yeast_experiments_sugar['Glucose Uptake Rate']/60, yeast_experiments_sugar['qO2']/60, color = 'darkblue', alpha=.9, label='Experimental Oxygen Consumption', linewidth = 0, s=200, zorder = 4, style = yeast_experiments['Author'])\n",
    "\n",
    "#axis format\n",
    "ax.set_xlabel(\"Glucose Uptake Rate\" r'$ \\left(\\frac{\\mu mol}{mg_{protein} \\cdot min^{}}\\right)$', fontsize=20)\n",
    "ax.set_ylabel(\"Consumption / Production Rate\" r'$ \\left(\\frac{\\mu mol}{mg_{protein} \\cdot min^{}}\\right)$', fontsize=20)\n",
    "ax.tick_params(axis='both', which='major', labelsize=19, left=False, bottom=False)\n",
    "ax.set_xlim(-1/60, yeast_model_conf['gluc'].max())\n",
    "\n",
    "\n",
    "#legend format \n",
    "custom = [Line2D([0], [0], color='crimson', lw=4),\n",
    "          Line2D([0], [0], color='darkblue', lw=4),\n",
    "          Line2D([], [], marker='o', color='crimson', linestyle='None'),\n",
    "          Line2D([], [], marker='o', color='darkblue', linestyle='None')]\n",
    "ax.add_artist(plt.legend(custom, ['Model Ethanol Production', 'Model Oxygen Consumption', 'Ethanol Production (umol mgprotein-1 min-1)', 'Oxygen Consumption (umol mgprotein-1 min-1)'], fontsize = 13, loc='upper left'))\n",
    "\n",
    "\n",
    "\n",
    "h,l = glyc.get_legend_handles_labels()\n",
    "ax.add_artist(plt.legend(h[3:10],l[3:10], loc='upper center', bbox_to_anchor=(0.49, -0.15), fontsize = 15.5, ncol=2))\n",
    "#ax.add_artist(plt.legend(h[3:10],l[3:10], loc='upper right', fontsize=13, bbox_to_anchor=(1.42, 1.015)))\n",
    "\n",
    "\n",
    "plt.tight_layout()\n",
    "\n",
    "#save figure\n",
    "fig.savefig('./Figures/edf6c_yeast_rates_perdiction.svg',format='svg', dpi=1200)\n"
   ]
  },
  {
   "cell_type": "markdown",
   "id": "07476519",
   "metadata": {},
   "source": [
    "### Extended Data Fig. 6e\n",
    "### Model Estimates for *S. cerevisiae* with full mitochondrial proteins"
   ]
  },
  {
   "cell_type": "code",
   "execution_count": null,
   "id": "f7d0546d",
   "metadata": {},
   "outputs": [],
   "source": [
    "#parameter estimates for proteome occupany\n",
    "proteomics_total_full_mito = pd.read_csv('./Data/2024_02_25_yeast_atp_total_full_mito.csv')\n",
    "\n",
    "#parameters estimates for specfic activity\n",
    "rates = pd.read_csv('./Data/yeast_cellular_rates.csv')\n",
    "\n",
    "#parameters estimates for specfic activity proteome\n",
    "resp_proteomics_full_mito = pd.read_csv('./Data/2024_02_25_yeast_specific_activity_resp_full_mito.csv')\n",
    "ferm_proteomics = pd.read_csv('./Data/2024_02_25_yeast_specific_activity_fermentation.csv')"
   ]
  },
  {
   "cell_type": "code",
   "execution_count": null,
   "id": "3884efad",
   "metadata": {
    "scrolled": false
   },
   "outputs": [],
   "source": [
    "#data into warburgLoop function\n",
    "yeast_model = warburgLoop(rates, proteomics_total_full_mito, ferm_proteomics, resp_proteomics_full_mito, ferm_proteomics, 2, 16, 0.1/60, 39/60, 'yeast')"
   ]
  },
  {
   "cell_type": "code",
   "execution_count": null,
   "id": "9a06287a",
   "metadata": {},
   "outputs": [],
   "source": [
    "#calculate confidence interval \n",
    "yeast_model_conf = warburgCI(yeast_model)"
   ]
  },
  {
   "cell_type": "code",
   "execution_count": null,
   "id": "63ab964a",
   "metadata": {},
   "outputs": [],
   "source": [
    "#reset index\n",
    "yeast_model_mean = yeast_model.groupby('gluc').median().reset_index()"
   ]
  },
  {
   "cell_type": "code",
   "execution_count": null,
   "id": "abf1fba3",
   "metadata": {
    "scrolled": false
   },
   "outputs": [],
   "source": [
    "fig, ax = plt.subplots(figsize=(8,8))\n",
    "ax.patch.set_facecolor('white')\n",
    "sns.set_context(\"talk\")\n",
    "\n",
    "#plot model predictions \n",
    "ax.plot(yeast_model_mean['gluc'], yeast_model_mean['lact'], color = 'crimson', linewidth = 2, label='Model Ethanol Production')\n",
    "ax.fill_between(yeast_model_mean['gluc'], yeast_model_conf['lact_y'], yeast_model_conf['lact_x'], color = 'crimson', alpha=0.2, linewidth = 0)\n",
    "ax.plot(yeast_model_mean['gluc'], yeast_model_mean['o2'], color = 'darkblue', linewidth = 2, label='Model Oxygen Consumption')\n",
    "ax.fill_between(yeast_model_mean['gluc'],yeast_model_conf['o2_y'], yeast_model_conf['o2_x'], alpha=0.2, linewidth = 0)\n",
    "\n",
    "#plot experimental data\n",
    "glyc = sns.scatterplot(yeast_experiments['Glucose Consumption (mmol gprotein-1 hr-1)']/60, yeast_experiments['Ethanol Production (mmol gprotein-1 hr-1)']/60, color = 'crimson', alpha=.9, label='Experimental Ethanol Production', linewidth = 0, s=200, zorder = 3, style = yeast_experiments['Author'])\n",
    "sns.scatterplot(yeast_experiments['Glucose Consumption (mmol gprotein-1 hr-1)']/60, yeast_experiments['Oxygen Consumption (mmol gprotein-1 hr-1)']/60, color = 'darkblue', alpha=.9, label='Experimental Oxygen Consumption', linewidth = 0, s=200, zorder = 4, style = yeast_experiments['Author'])\n",
    "\n",
    "#sns.scatterplot(yeast_experiments_sugar['Glucose Uptake Rate']/60, yeast_experiments_sugar['qEtOH']/60, color = 'crimson', alpha=.9, label='Experimental Ethanol Production', linewidth = 0, s=200, zorder = 3, style = yeast_experiments['Author'])\n",
    "#sns.scatterplot(yeast_experiments_sugar['Glucose Uptake Rate']/60, yeast_experiments_sugar['qO2']/60, color = 'darkblue', alpha=.9, label='Experimental Oxygen Consumption', linewidth = 0, s=200, zorder = 4, style = yeast_experiments['Author'])\n",
    "\n",
    "#axis format\n",
    "ax.set_xlabel(\"Glucose Uptake Rate\" r'$ \\left(\\frac{\\mu mol}{mg_{protein} \\cdot min^{}}\\right)$', fontsize=20)\n",
    "ax.set_ylabel(\"Consumption / Production Rate\" r'$ \\left(\\frac{\\mu mol}{mg_{protein} \\cdot min^{}}\\right)$', fontsize=20)\n",
    "ax.tick_params(axis='both', which='major', labelsize=19, left=False, bottom=False)\n",
    "ax.set_xlim(-1/60, yeast_model_conf['gluc'].max())\n",
    "\n",
    "\n",
    "#legend format \n",
    "custom = [Line2D([0], [0], color='crimson', lw=4),\n",
    "          Line2D([0], [0], color='darkblue', lw=4),\n",
    "          Line2D([], [], marker='o', color='crimson', linestyle='None'),\n",
    "          Line2D([], [], marker='o', color='darkblue', linestyle='None')]\n",
    "ax.add_artist(plt.legend(custom, ['Model Ethanol Production', 'Model Oxygen Consumption', 'Ethanol Production (umol mgprotein-1 min-1)', 'Oxygen Consumption (umol mgprotein-1 min-1)'], fontsize = 13, loc='upper left'))\n",
    "\n",
    "\n",
    "\n",
    "h,l = glyc.get_legend_handles_labels()\n",
    "ax.add_artist(plt.legend(h[3:10],l[3:10], loc='upper center', bbox_to_anchor=(0.49, -0.15), fontsize = 15.5, ncol=2))\n",
    "#ax.add_artist(plt.legend(h[3:10],l[3:10], loc='upper right', fontsize=13, bbox_to_anchor=(1.42, 1.015)))\n",
    "\n",
    "\n",
    "plt.tight_layout()\n",
    "\n",
    "#save figure\n",
    "fig.savefig('./Figures/edf6e_yeast_rates_perdiction.svg',format='svg', dpi=1200)\n"
   ]
  },
  {
   "cell_type": "markdown",
   "id": "a3c526ac",
   "metadata": {},
   "source": [
    "### Extended Data Fig. 6d\n",
    "### Model Estimates for mammalian cells with correlated mitochondrial proteins"
   ]
  },
  {
   "cell_type": "code",
   "execution_count": null,
   "id": "edc15477",
   "metadata": {},
   "outputs": [],
   "source": [
    "#parameter estimates for proteome occupany\n",
    "proteomics = pd.read_csv('./Data/2024_02_26_mammalian_atp_total_partial_mito.csv')\n",
    "\n",
    "#parameters estimates for specfic activity\n",
    "rate = pd.read_csv('./Data/mammalian_cellular_rates.csv')\n",
    "\n",
    "#parameters estimates for specfic activity proteome\n",
    "resp_proteomics = pd.read_csv('./Data/2024_02_26_mammalian_specific_actvity_resp_partial_mito.csv')\n",
    "ferm_proteomics = pd.read_csv('./Data/2024_02_26_mammalian_specific_actvity_ferm.csv')"
   ]
  },
  {
   "cell_type": "code",
   "execution_count": null,
   "id": "5a22a69e",
   "metadata": {},
   "outputs": [],
   "source": [
    "#data into warburgLoop function\n",
    "mammalian_model = warburgLoop(rate, proteomics, ferm_proteomics, resp_proteomics, ferm_proteomics, 2, 24, 0.01/60, 2/60, 'human')"
   ]
  },
  {
   "cell_type": "code",
   "execution_count": null,
   "id": "8d88a4eb",
   "metadata": {},
   "outputs": [],
   "source": [
    "#calculate confidence interval \n",
    "mammalian_model_conf = warburgCI(mammalian_model)"
   ]
  },
  {
   "cell_type": "code",
   "execution_count": null,
   "id": "812d8b06",
   "metadata": {},
   "outputs": [],
   "source": [
    "#reset index\n",
    "mammalian_model_mean = mammalian_model.groupby('gluc').median().reset_index()"
   ]
  },
  {
   "cell_type": "code",
   "execution_count": null,
   "id": "b133271c",
   "metadata": {},
   "outputs": [],
   "source": [
    "#experimental values (points on figs below) to compare to model predictions\n",
    "mammalian_experiments = pd.read_csv('./Data/mammalian_experimental.csv')"
   ]
  },
  {
   "cell_type": "code",
   "execution_count": null,
   "id": "6397a1fa",
   "metadata": {},
   "outputs": [],
   "source": [
    "#seahorse_experiments = pd.read_csv('./Data/2023_10_23_seahorse.csv')\n",
    "#seahorse_experiments['Glucose 1'] = seahorse_experiments['Oxygen Consumption (umol mgprotein-1 min-1)']/6 + seahorse_experiments['Lactate Production (umol mgprotein-1 min-1)']/2"
   ]
  },
  {
   "cell_type": "code",
   "execution_count": null,
   "id": "0b7e891c",
   "metadata": {},
   "outputs": [],
   "source": []
  },
  {
   "cell_type": "code",
   "execution_count": null,
   "id": "5aa84dd9",
   "metadata": {
    "scrolled": false
   },
   "outputs": [],
   "source": [
    "fig, ax = plt.subplots(figsize=(8.25,8))\n",
    "ax.patch.set_facecolor('white')\n",
    "sns.set_context(\"talk\")\n",
    "\n",
    "#plot model predictions \n",
    "ax.plot(mammalian_model_mean['gluc'], mammalian_model_mean['lact'], color = 'crimson', linewidth = 2, label='Model Lactate Production', zorder = 1)\n",
    "ax.fill_between(mammalian_model_mean['gluc'], mammalian_model_conf['lact_y'], mammalian_model_conf['lact_x'], color = 'crimson', alpha=0.2, linewidth = 0)\n",
    "ax.plot(mammalian_model_mean['gluc'], mammalian_model_mean['o2'], color = 'darkblue', linewidth = 2, label='Model Oxygen Consumption', zorder = 2)\n",
    "ax.fill_between(mammalian_model_mean['gluc'], mammalian_model_conf['o2_y'], mammalian_model_conf['o2_x'], alpha=0.2, linewidth = 0)\n",
    "\n",
    "#plot experimental data\n",
    "glyc = sns.scatterplot(mammalian_experiments['Glucose Consumption (mmol gprotein-1 hr-1)']/60, mammalian_experiments['Lactate Production (mmol gprotein-1 hr-1)']/60, color = 'crimson', alpha=.9, label='Experimental Lactate Production', linewidth = 0, s=160, zorder = 4, style = mammalian_experiments['Author'])\n",
    "sns.scatterplot(mammalian_experiments['Glucose Consumption (mmol gprotein-1 hr-1)']/60, mammalian_experiments['Oxygen Consumption (mmol gprotein-1 hr-1)']/60, color = 'darkblue', alpha=.9, label='Experimental Oxygen Consumption', linewidth = 0, s=160, zorder =3, style = mammalian_experiments['Author'])\n",
    "\n",
    "#sns.scatterplot(seahorse_experiments['Glucose 1'], seahorse_experiments['Oxygen Consumption (umol mgprotein-1 min-1)'], color = 'teal', alpha=.9, label='Experimental Oxygen Consumption', linewidth = 0, s=160, zorder =3)\n",
    "#sns.scatterplot(seahorse_experiments['Glucose 1'], seahorse_experiments['Lactate Production (umol mgprotein-1 min-1)'], color = 'coral', alpha=.9, label='Experimental Lactate Production', linewidth = 0, s=160, zorder = 4)\n",
    "\n",
    "#axis format\n",
    "ax.set_xlabel(\"Glucose Uptake Rate\" r'$ \\left(\\frac{\\mu mol}{mg_{protein} \\cdot min^{}}\\right)$', fontsize=20)\n",
    "ax.set_ylabel(\"Consumption / Production Rate\" r'$ \\left(\\frac{\\mu mol}{mg_{protein} \\cdot min^{}}\\right)$', fontsize=20)\n",
    "ax.tick_params(axis='both', which='major', length=0, labelsize=19)\n",
    "ax.set_xlim(-.07/60, .027)\n",
    "\n",
    "#legend format \n",
    "custom = [Line2D([0], [0], color='crimson', lw=4),\n",
    "          Line2D([0], [0], color='darkblue', lw=4),\n",
    "          Line2D([], [], marker='o', color='crimson', linestyle='None'),\n",
    "          Line2D([], [], marker='o', color='darkblue', linestyle='None')]\n",
    "ax.add_artist(plt.legend(custom, ['Model Lactate Production', 'Model Oxygen Consumption', 'Lactate Production (umol mgprotein-1 min-1)', 'Oxygen Consumption (umol mgprotein-1 min-1)'], fontsize = 12, loc='upper left'))\n",
    "\n",
    "h,l = glyc.get_legend_handles_labels()\n",
    "ax.add_artist(plt.legend(h[3:13],l[3:13], loc='upper center', bbox_to_anchor=(0.49, -0.15), fontsize = 15.5, ncol=2))\n",
    "#ax.add_artist(plt.legend(h[3:13],l[3:13], loc='upper right', fontsize=13, bbox_to_anchor=(1.43, 1.015)))\n",
    "\n",
    "\n",
    "plt.tight_layout()\n",
    "\n",
    "#save figure\n",
    "fig.savefig('./Figures/edf6d_mammalian_rates_perdiction.svg',format='svg', dpi=1200)"
   ]
  },
  {
   "cell_type": "markdown",
   "id": "c8c1ae74",
   "metadata": {},
   "source": [
    "### Extended Data Fig. 6f\n",
    "### Model Estimates for mammalian cells with full mitochondrial proteins"
   ]
  },
  {
   "cell_type": "code",
   "execution_count": null,
   "id": "6182dcdc",
   "metadata": {},
   "outputs": [],
   "source": [
    "#parameter estimates for proteome occupany\n",
    "proteomics = pd.read_csv('./Data/2024_02_26_mammalian_atp_total_full_mito.csv')\n",
    "\n",
    "#parameters estimates for specfic activity\n",
    "rate = pd.read_csv('./Data/mammalian_cellular_rates.csv')\n",
    "\n",
    "#parameters estimates for specfic activity proteome\n",
    "resp_proteomics = pd.read_csv('./Data/2024_02_26_mammalian_specific_actvity_resp_full_mito.csv')\n",
    "ferm_proteomics = pd.read_csv('./Data/2024_02_26_mammalian_specific_actvity_ferm.csv')"
   ]
  },
  {
   "cell_type": "code",
   "execution_count": null,
   "id": "c3ac869e",
   "metadata": {},
   "outputs": [],
   "source": [
    "#data into warburgLoop function\n",
    "mammalian_model = warburgLoop(rate, proteomics, ferm_proteomics, resp_proteomics, ferm_proteomics, 2, 24, 0.01/60, 2/60, 'human')"
   ]
  },
  {
   "cell_type": "code",
   "execution_count": null,
   "id": "a4feab26",
   "metadata": {},
   "outputs": [],
   "source": [
    "#calculate confidence interval \n",
    "mammalian_model_conf = warburgCI(mammalian_model)"
   ]
  },
  {
   "cell_type": "code",
   "execution_count": null,
   "id": "23d13eb2",
   "metadata": {},
   "outputs": [],
   "source": [
    "#reset index\n",
    "mammalian_model_mean = mammalian_model.groupby('gluc').median().reset_index()"
   ]
  },
  {
   "cell_type": "code",
   "execution_count": null,
   "id": "49d75459",
   "metadata": {},
   "outputs": [],
   "source": [
    "#experimental values (points on figs below) to compare to model predictions\n",
    "mammalian_experiments = pd.read_csv('./Data/mammalian_experimental.csv')"
   ]
  },
  {
   "cell_type": "code",
   "execution_count": null,
   "id": "635a5ca7",
   "metadata": {
    "scrolled": false
   },
   "outputs": [],
   "source": [
    "\n",
    "fig, ax = plt.subplots(figsize=(8.25,8))\n",
    "ax.patch.set_facecolor('white')\n",
    "sns.set_context(\"talk\")\n",
    "\n",
    "#plot model predictions \n",
    "ax.plot(mammalian_model_mean['gluc'], mammalian_model_mean['lact'], color = 'crimson', linewidth = 2, label='Model Lactate Production', zorder = 1)\n",
    "ax.fill_between(mammalian_model_mean['gluc'], mammalian_model_conf['lact_y'], mammalian_model_conf['lact_x'], color = 'crimson', alpha=0.2, linewidth = 0)\n",
    "ax.plot(mammalian_model_mean['gluc'], mammalian_model_mean['o2'], color = 'darkblue', linewidth = 2, label='Model Oxygen Consumption', zorder = 2)\n",
    "ax.fill_between(mammalian_model_mean['gluc'], mammalian_model_conf['o2_y'], mammalian_model_conf['o2_x'], alpha=0.2, linewidth = 0)\n",
    "\n",
    "#plot experimental data\n",
    "glyc = sns.scatterplot(mammalian_experiments['Glucose Consumption (mmol gprotein-1 hr-1)']/60, mammalian_experiments['Lactate Production (mmol gprotein-1 hr-1)']/60, color = 'crimson', alpha=.9, label='Experimental Lactate Production', linewidth = 0, s=160, zorder = 4, style = mammalian_experiments['Author'])\n",
    "sns.scatterplot(mammalian_experiments['Glucose Consumption (mmol gprotein-1 hr-1)']/60, mammalian_experiments['Oxygen Consumption (mmol gprotein-1 hr-1)']/60, color = 'darkblue', alpha=.9, label='Experimental Oxygen Consumption', linewidth = 0, s=160, zorder =3, style = mammalian_experiments['Author'])\n",
    "\n",
    "#axis format\n",
    "ax.set_xlabel(\"Glucose Uptake Rate\" r'$ \\left(\\frac{\\mu mol}{mg_{protein} \\cdot min^{}}\\right)$', fontsize=20)\n",
    "ax.set_ylabel(\"Consumption / Production Rate\" r'$ \\left(\\frac{\\mu mol}{mg_{protein} \\cdot min^{}}\\right)$', fontsize=20)\n",
    "ax.tick_params(axis='both', which='major', length=0, labelsize=19)\n",
    "ax.set_xlim(-.07/60, .027)\n",
    "\n",
    "#legend format \n",
    "custom = [Line2D([0], [0], color='crimson', lw=4),\n",
    "          Line2D([0], [0], color='darkblue', lw=4),\n",
    "          Line2D([], [], marker='o', color='crimson', linestyle='None'),\n",
    "          Line2D([], [], marker='o', color='darkblue', linestyle='None')]\n",
    "ax.add_artist(plt.legend(custom, ['Model Lactate Production', 'Model Oxygen Consumption', 'Lactate Production (umol mgprotein-1 min-1)', 'Oxygen Consumption (umol mgprotein-1 min-1)'], fontsize = 12, loc='upper left'))\n",
    "\n",
    "h,l = glyc.get_legend_handles_labels()\n",
    "ax.add_artist(plt.legend(h[3:13],l[3:13], loc='upper center', bbox_to_anchor=(0.49, -0.15), fontsize = 15.5, ncol=2))\n",
    "#ax.add_artist(plt.legend(h[3:13],l[3:13], loc='upper right', fontsize=13, bbox_to_anchor=(1.43, 1.015)))\n",
    "\n",
    "\n",
    "plt.tight_layout()\n",
    "\n",
    "#save figure\n",
    "fig.savefig('./Figures/edf6f_mammalian_rates_perdiction.svg',format='svg', dpi=1200)"
   ]
  }
 ],
 "metadata": {
  "kernelspec": {
   "display_name": "Python 3",
   "language": "python",
   "name": "python3"
  },
  "language_info": {
   "codemirror_mode": {
    "name": "ipython",
    "version": 3
   },
   "file_extension": ".py",
   "mimetype": "text/x-python",
   "name": "python",
   "nbconvert_exporter": "python",
   "pygments_lexer": "ipython3",
   "version": "3.7.6"
  }
 },
 "nbformat": 4,
 "nbformat_minor": 5
}
